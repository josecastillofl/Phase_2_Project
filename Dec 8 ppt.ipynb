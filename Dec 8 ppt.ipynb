{
 "cells": [
  {
   "cell_type": "code",
   "execution_count": 4,
   "metadata": {},
   "outputs": [],
   "source": [
    "# Import Packages and Data\n",
    "\n",
    "import pandas as pd\n",
    "import numpy as np\n",
    "import matplotlib.pyplot as plt\n",
    "import sklearn as sk\n",
    "import statsmodels.api as sm\n",
    "import seaborn as sns\n",
    "from scipy import stats\n",
    "from statsmodels.stats.outliers_influence import variance_inflation_factor\n",
    "\n",
    "%matplotlib inline\n",
    "\n",
    "data = pd.read_csv('data/kc_house_data.csv')\n",
    "\n",
    "pd.set_option('display.float_format', lambda x: '%.2f' % x)"
   ]
  },
  {
   "cell_type": "code",
   "execution_count": 5,
   "metadata": {},
   "outputs": [],
   "source": [
    "ldf = data.drop(labels = ['id', 'date'], axis=1)\n",
    "\n",
    "df = ldf.drop(labels = ['address', 'lat', 'long', 'sqft_above'], axis=1)"
   ]
  },
  {
   "cell_type": "markdown",
   "metadata": {},
   "source": [
    "### Filter--> Focusing Prices of Single Family Homes\n",
    " * Filter: Between 2 - 4 Bedrooms"
   ]
  },
  {
   "cell_type": "code",
   "execution_count": 8,
   "metadata": {},
   "outputs": [],
   "source": [
    "df['bedrooms'].value_counts()\n",
    "\n",
    "df['bedrooms_filter'] = df['bedrooms'].apply(lambda x: 1 if 2 <= x <= 4 else 0)\n",
    "\n",
    "df['bedrooms_filter'].value_counts()\n",
    "\n",
    "newdf = df[df['bedrooms_filter'] == 1]"
   ]
  },
  {
   "cell_type": "code",
   "execution_count": 9,
   "metadata": {},
   "outputs": [],
   "source": [
    "df = newdf.copy()"
   ]
  },
  {
   "cell_type": "code",
   "execution_count": 11,
   "metadata": {},
   "outputs": [
    {
     "data": {
      "text/plain": [
       "<AxesSubplot:>"
      ]
     },
     "execution_count": 11,
     "metadata": {},
     "output_type": "execute_result"
    },
    {
     "data": {
      "image/png": "[encoded data removed]",
      "text/plain": [
       "<Figure size 432x288 with 1 Axes>"
      ]
     },
     "metadata": {
      "needs_background": "light"
     },
     "output_type": "display_data"
    }
   ],
   "source": [
    "df['price'].hist()"
   ]
  },
  {
   "cell_type": "code",
   "execution_count": null,
   "metadata": {},
   "outputs": [],
   "source": [
    "# Dropping "
   ]
  },
  {
   "cell_type": "code",
   "execution_count": 12,
   "metadata": {},
   "outputs": [
    {
     "name": "stdout",
     "output_type": "stream",
     "text": [
      "3    12754\n",
      "4     9597\n",
      "2     3936\n",
      "Name: bedrooms, dtype: int64\n"
     ]
    },
    {
     "data": {
      "text/plain": [
       "2.50    8062\n",
       "2.00    6973\n",
       "1.00    4196\n",
       "3.00    3019\n",
       "1.50    1743\n",
       "3.50    1687\n",
       "4.00     327\n",
       "4.50     202\n",
       "5.00      37\n",
       "5.50      25\n",
       "6.00       6\n",
       "0.00       4\n",
       "0.50       3\n",
       "6.50       2\n",
       "7.50       1\n",
       "Name: bathrooms, dtype: int64"
      ]
     },
     "execution_count": 12,
     "metadata": {},
     "output_type": "execute_result"
    }
   ],
   "source": [
    "print(df['bedrooms'].value_counts())\n",
    "\n",
    "df['bathrooms'].value_counts()"
   ]
  },
  {
   "cell_type": "markdown",
   "metadata": {},
   "source": [
    "Remove 0 Bathroom houses"
   ]
  },
  {
   "cell_type": "code",
   "execution_count": 13,
   "metadata": {},
   "outputs": [
    {
     "name": "stdout",
     "output_type": "stream",
     "text": [
      "<class 'pandas.core.frame.DataFrame'>\n",
      "Int64Index: 26283 entries, 0 to 30154\n",
      "Data columns (total 20 columns):\n",
      " #   Column           Non-Null Count  Dtype  \n",
      "---  ------           --------------  -----  \n",
      " 0   price            26283 non-null  float64\n",
      " 1   bedrooms         26283 non-null  int64  \n",
      " 2   bathrooms        26283 non-null  float64\n",
      " 3   sqft_living      26283 non-null  int64  \n",
      " 4   sqft_lot         26283 non-null  int64  \n",
      " 5   floors           26283 non-null  float64\n",
      " 6   waterfront       26283 non-null  object \n",
      " 7   greenbelt        26283 non-null  object \n",
      " 8   nuisance         26283 non-null  object \n",
      " 9   view             26283 non-null  object \n",
      " 10  condition        26283 non-null  object \n",
      " 11  grade            26283 non-null  object \n",
      " 12  heat_source      26267 non-null  object \n",
      " 13  sewer_system     26275 non-null  object \n",
      " 14  sqft_basement    26283 non-null  int64  \n",
      " 15  sqft_garage      26283 non-null  int64  \n",
      " 16  sqft_patio       26283 non-null  int64  \n",
      " 17  yr_built         26283 non-null  int64  \n",
      " 18  yr_renovated     26283 non-null  int64  \n",
      " 19  bedrooms_filter  26283 non-null  int64  \n",
      "dtypes: float64(3), int64(9), object(8)\n",
      "memory usage: 4.2+ MB\n",
      "Removed 25 rows due to zero bathrooms.\n"
     ]
    }
   ],
   "source": [
    "zero_bathroom_df = df.loc[df['bathrooms'] == 0] #In case we want to explore later\n",
    "df = df[df['bathrooms'] != 0]\n",
    "\n",
    "df.info()\n",
    "\n",
    "print(f\"Removed {30111 - 30086} rows due to zero bathrooms.\")"
   ]
  },
  {
   "cell_type": "markdown",
   "metadata": {},
   "source": [
    "# Single Linear Regression: View (Y/N)"
   ]
  },
  {
   "cell_type": "code",
   "execution_count": 22,
   "metadata": {},
   "outputs": [
    {
     "data": {
      "text/html": [
       "<table class=\"simpletable\">\n",
       "<caption>OLS Regression Results</caption>\n",
       "<tr>\n",
       "  <th>Dep. Variable:</th>          <td>price</td>      <th>  R-squared (uncentered):</th>       <td>   0.176</td>  \n",
       "</tr>\n",
       "<tr>\n",
       "  <th>Model:</th>                   <td>OLS</td>       <th>  Adj. R-squared (uncentered):</th>  <td>   0.176</td>  \n",
       "</tr>\n",
       "<tr>\n",
       "  <th>Method:</th>             <td>Least Squares</td>  <th>  F-statistic:       </th>           <td>   5600.</td>  \n",
       "</tr>\n",
       "<tr>\n",
       "  <th>Date:</th>             <td>Thu, 08 Dec 2022</td> <th>  Prob (F-statistic):</th>            <td>  0.00</td>   \n",
       "</tr>\n",
       "<tr>\n",
       "  <th>Time:</th>                 <td>14:54:55</td>     <th>  Log-Likelihood:    </th>          <td>-4.0428e+05</td>\n",
       "</tr>\n",
       "<tr>\n",
       "  <th>No. Observations:</th>      <td> 26283</td>      <th>  AIC:               </th>           <td>8.086e+05</td> \n",
       "</tr>\n",
       "<tr>\n",
       "  <th>Df Residuals:</th>          <td> 26282</td>      <th>  BIC:               </th>           <td>8.086e+05</td> \n",
       "</tr>\n",
       "<tr>\n",
       "  <th>Df Model:</th>              <td>     1</td>      <th>                     </th>               <td> </td>     \n",
       "</tr>\n",
       "<tr>\n",
       "  <th>Covariance Type:</th>      <td>nonrobust</td>    <th>                     </th>               <td> </td>     \n",
       "</tr>\n",
       "</table>\n",
       "<table class=\"simpletable\">\n",
       "<tr>\n",
       "       <td></td>          <th>coef</th>     <th>std err</th>      <th>t</th>      <th>P>|t|</th>  <th>[0.025</th>    <th>0.975]</th>  \n",
       "</tr>\n",
       "<tr>\n",
       "  <th>view_binary</th> <td> 1.616e+06</td> <td> 2.16e+04</td> <td>   74.832</td> <td> 0.000</td> <td> 1.57e+06</td> <td> 1.66e+06</td>\n",
       "</tr>\n",
       "</table>\n",
       "<table class=\"simpletable\">\n",
       "<tr>\n",
       "  <th>Omnibus:</th>       <td>22284.292</td> <th>  Durbin-Watson:     </th>  <td>   0.858</td>  \n",
       "</tr>\n",
       "<tr>\n",
       "  <th>Prob(Omnibus):</th>  <td> 0.000</td>   <th>  Jarque-Bera (JB):  </th> <td>3156326.053</td>\n",
       "</tr>\n",
       "<tr>\n",
       "  <th>Skew:</th>           <td> 3.434</td>   <th>  Prob(JB):          </th>  <td>    0.00</td>  \n",
       "</tr>\n",
       "<tr>\n",
       "  <th>Kurtosis:</th>       <td>56.245</td>   <th>  Cond. No.          </th>  <td>    1.00</td>  \n",
       "</tr>\n",
       "</table><br/><br/>Notes:<br/>[1] R² is computed without centering (uncentered) since the model does not contain a constant.<br/>[2] Standard Errors assume that the covariance matrix of the errors is correctly specified."
      ],
      "text/plain": [
       "<class 'statsmodels.iolib.summary.Summary'>\n",
       "\"\"\"\n",
       "                                 OLS Regression Results                                \n",
       "=======================================================================================\n",
       "Dep. Variable:                  price   R-squared (uncentered):                   0.176\n",
       "Model:                            OLS   Adj. R-squared (uncentered):              0.176\n",
       "Method:                 Least Squares   F-statistic:                              5600.\n",
       "Date:                Thu, 08 Dec 2022   Prob (F-statistic):                        0.00\n",
       "Time:                        14:54:55   Log-Likelihood:                     -4.0428e+05\n",
       "No. Observations:               26283   AIC:                                  8.086e+05\n",
       "Df Residuals:                   26282   BIC:                                  8.086e+05\n",
       "Df Model:                           1                                                  \n",
       "Covariance Type:            nonrobust                                                  \n",
       "===============================================================================\n",
       "                  coef    std err          t      P>|t|      [0.025      0.975]\n",
       "-------------------------------------------------------------------------------\n",
       "view_binary  1.616e+06   2.16e+04     74.832      0.000    1.57e+06    1.66e+06\n",
       "==============================================================================\n",
       "Omnibus:                    22284.292   Durbin-Watson:                   0.858\n",
       "Prob(Omnibus):                  0.000   Jarque-Bera (JB):          3156326.053\n",
       "Skew:                           3.434   Prob(JB):                         0.00\n",
       "Kurtosis:                      56.245   Cond. No.                         1.00\n",
       "==============================================================================\n",
       "\n",
       "Notes:\n",
       "[1] R² is computed without centering (uncentered) since the model does not contain a constant.\n",
       "[2] Standard Errors assume that the covariance matrix of the errors is correctly specified.\n",
       "\"\"\""
      ]
     },
     "execution_count": 22,
     "metadata": {},
     "output_type": "execute_result"
    }
   ],
   "source": [
    "# Question: Are houses with no view cheaper than houses with any type of view?\n",
    "\n",
    "df['view_binary'] = df['view'].apply(lambda x: 0 if x == 'NONE' else 1)\n",
    "\n",
    "df['view_binary'].value_counts()\n",
    "\n",
    "y = df['price']\n",
    "x = df['view_binary']\n",
    "\n",
    "model = sm.OLS(y,x).fit()\n",
    "\n",
    "model.summary()\n",
    "\n",
    "# Recommendation : Invest in houses without a view"
   ]
  },
  {
   "cell_type": "markdown",
   "metadata": {},
   "source": [
    "## Bar Plot"
   ]
  },
  {
   "cell_type": "code",
   "execution_count": 25,
   "metadata": {},
   "outputs": [
    {
     "data": {
      "image/png": "[encoded data removed]",
      "text/plain": [
       "<Figure size 432x288 with 1 Axes>"
      ]
     },
     "metadata": {
      "needs_background": "light"
     },
     "output_type": "display_data"
    }
   ],
   "source": [
    "sns.barplot(x = df['view_binary'],\n",
    "            y = df['price'],\n",
    "            data = df);"
   ]
  },
  {
   "cell_type": "markdown",
   "metadata": {},
   "source": [
    "## 2. Size to Number of Bedrooms Ratio"
   ]
  },
  {
   "cell_type": "code",
   "execution_count": 33,
   "metadata": {},
   "outputs": [
    {
     "data": {
      "text/html": [
       "<table class=\"simpletable\">\n",
       "<caption>OLS Regression Results</caption>\n",
       "<tr>\n",
       "  <th>Dep. Variable:</th>          <td>price</td>      <th>  R-squared (uncentered):</th>       <td>   0.749</td>  \n",
       "</tr>\n",
       "<tr>\n",
       "  <th>Model:</th>                   <td>OLS</td>       <th>  Adj. R-squared (uncentered):</th>  <td>   0.749</td>  \n",
       "</tr>\n",
       "<tr>\n",
       "  <th>Method:</th>             <td>Least Squares</td>  <th>  F-statistic:       </th>           <td>7.840e+04</td> \n",
       "</tr>\n",
       "<tr>\n",
       "  <th>Date:</th>             <td>Thu, 08 Dec 2022</td> <th>  Prob (F-statistic):</th>            <td>  0.00</td>   \n",
       "</tr>\n",
       "<tr>\n",
       "  <th>Time:</th>                 <td>15:09:45</td>     <th>  Log-Likelihood:    </th>          <td>-3.8865e+05</td>\n",
       "</tr>\n",
       "<tr>\n",
       "  <th>No. Observations:</th>      <td> 26283</td>      <th>  AIC:               </th>           <td>7.773e+05</td> \n",
       "</tr>\n",
       "<tr>\n",
       "  <th>Df Residuals:</th>          <td> 26282</td>      <th>  BIC:               </th>           <td>7.773e+05</td> \n",
       "</tr>\n",
       "<tr>\n",
       "  <th>Df Model:</th>              <td>     1</td>      <th>                     </th>               <td> </td>     \n",
       "</tr>\n",
       "<tr>\n",
       "  <th>Covariance Type:</th>      <td>nonrobust</td>    <th>                     </th>               <td> </td>     \n",
       "</tr>\n",
       "</table>\n",
       "<table class=\"simpletable\">\n",
       "<tr>\n",
       "              <td></td>                 <th>coef</th>     <th>std err</th>      <th>t</th>      <th>P>|t|</th>  <th>[0.025</th>    <th>0.975]</th>  \n",
       "</tr>\n",
       "<tr>\n",
       "  <th>size_to_num_bedroom_ratio</th> <td> 1709.3193</td> <td>    6.105</td> <td>  280.008</td> <td> 0.000</td> <td> 1697.354</td> <td> 1721.285</td>\n",
       "</tr>\n",
       "</table>\n",
       "<table class=\"simpletable\">\n",
       "<tr>\n",
       "  <th>Omnibus:</th>       <td>33007.530</td> <th>  Durbin-Watson:     </th>   <td>   1.849</td>  \n",
       "</tr>\n",
       "<tr>\n",
       "  <th>Prob(Omnibus):</th>  <td> 0.000</td>   <th>  Jarque-Bera (JB):  </th> <td>15272262.925</td>\n",
       "</tr>\n",
       "<tr>\n",
       "  <th>Skew:</th>           <td> 6.486</td>   <th>  Prob(JB):          </th>   <td>    0.00</td>  \n",
       "</tr>\n",
       "<tr>\n",
       "  <th>Kurtosis:</th>       <td>120.377</td>  <th>  Cond. No.          </th>   <td>    1.00</td>  \n",
       "</tr>\n",
       "</table><br/><br/>Notes:<br/>[1] R² is computed without centering (uncentered) since the model does not contain a constant.<br/>[2] Standard Errors assume that the covariance matrix of the errors is correctly specified."
      ],
      "text/plain": [
       "<class 'statsmodels.iolib.summary.Summary'>\n",
       "\"\"\"\n",
       "                                 OLS Regression Results                                \n",
       "=======================================================================================\n",
       "Dep. Variable:                  price   R-squared (uncentered):                   0.749\n",
       "Model:                            OLS   Adj. R-squared (uncentered):              0.749\n",
       "Method:                 Least Squares   F-statistic:                          7.840e+04\n",
       "Date:                Thu, 08 Dec 2022   Prob (F-statistic):                        0.00\n",
       "Time:                        15:09:45   Log-Likelihood:                     -3.8865e+05\n",
       "No. Observations:               26283   AIC:                                  7.773e+05\n",
       "Df Residuals:                   26282   BIC:                                  7.773e+05\n",
       "Df Model:                           1                                                  \n",
       "Covariance Type:            nonrobust                                                  \n",
       "=============================================================================================\n",
       "                                coef    std err          t      P>|t|      [0.025      0.975]\n",
       "---------------------------------------------------------------------------------------------\n",
       "size_to_num_bedroom_ratio  1709.3193      6.105    280.008      0.000    1697.354    1721.285\n",
       "==============================================================================\n",
       "Omnibus:                    33007.530   Durbin-Watson:                   1.849\n",
       "Prob(Omnibus):                  0.000   Jarque-Bera (JB):         15272262.925\n",
       "Skew:                           6.486   Prob(JB):                         0.00\n",
       "Kurtosis:                     120.377   Cond. No.                         1.00\n",
       "==============================================================================\n",
       "\n",
       "Notes:\n",
       "[1] R² is computed without centering (uncentered) since the model does not contain a constant.\n",
       "[2] Standard Errors assume that the covariance matrix of the errors is correctly specified.\n",
       "\"\"\""
      ]
     },
     "execution_count": 33,
     "metadata": {},
     "output_type": "execute_result"
    }
   ],
   "source": [
    "# House size is associated with increased price\n",
    "# Size doesn't influence Section 8 rent, only number of bedrooms does.\n",
    "# Ideal combination = low size, high number of bedrooms (low size:bedroom ratio)\n",
    "\n",
    "#Question 2: How does size:bedroom ratio relate to house price? \n",
    "# Are houses with a lower size:bedroom ratio cheaper than houses with a high size:bedroom ratio?\n",
    "\n",
    "df['size_to_num_bedroom_ratio'] = df['sqft_living'] / df['bedrooms']\n",
    "\n",
    "y = df['price']\n",
    "x = df['size_to_num_bedroom_ratio']\n",
    "\n",
    "model = sm.OLS(y,x).fit()\n",
    "\n",
    "model.summary()"
   ]
  },
  {
   "cell_type": "code",
   "execution_count": 34,
   "metadata": {},
   "outputs": [],
   "source": [
    "# Lower size to bedroom ratio = CHEAPER buying point, but more profit from rent\n",
    "\n",
    "# Best to invest in 4-bedroom properties with a lower sqft_living space"
   ]
  },
  {
   "cell_type": "markdown",
   "metadata": {},
   "source": [
    "** visualization? **"
   ]
  },
  {
   "cell_type": "markdown",
   "metadata": {},
   "source": [
    "# How does Year Built influence the purchase price of the house?"
   ]
  },
  {
   "cell_type": "code",
   "execution_count": 35,
   "metadata": {},
   "outputs": [
    {
     "data": {
      "text/html": [
       "<table class=\"simpletable\">\n",
       "<caption>OLS Regression Results</caption>\n",
       "<tr>\n",
       "  <th>Dep. Variable:</th>          <td>price</td>      <th>  R-squared (uncentered):</th>       <td>   0.657</td>  \n",
       "</tr>\n",
       "<tr>\n",
       "  <th>Model:</th>                   <td>OLS</td>       <th>  Adj. R-squared (uncentered):</th>  <td>   0.657</td>  \n",
       "</tr>\n",
       "<tr>\n",
       "  <th>Method:</th>             <td>Least Squares</td>  <th>  F-statistic:       </th>           <td>5.033e+04</td> \n",
       "</tr>\n",
       "<tr>\n",
       "  <th>Date:</th>             <td>Thu, 08 Dec 2022</td> <th>  Prob (F-statistic):</th>            <td>  0.00</td>   \n",
       "</tr>\n",
       "<tr>\n",
       "  <th>Time:</th>                 <td>15:12:07</td>     <th>  Log-Likelihood:    </th>          <td>-3.9275e+05</td>\n",
       "</tr>\n",
       "<tr>\n",
       "  <th>No. Observations:</th>      <td> 26283</td>      <th>  AIC:               </th>           <td>7.855e+05</td> \n",
       "</tr>\n",
       "<tr>\n",
       "  <th>Df Residuals:</th>          <td> 26282</td>      <th>  BIC:               </th>           <td>7.855e+05</td> \n",
       "</tr>\n",
       "<tr>\n",
       "  <th>Df Model:</th>              <td>     1</td>      <th>                     </th>               <td> </td>     \n",
       "</tr>\n",
       "<tr>\n",
       "  <th>Covariance Type:</th>      <td>nonrobust</td>    <th>                     </th>               <td> </td>     \n",
       "</tr>\n",
       "</table>\n",
       "<table class=\"simpletable\">\n",
       "<tr>\n",
       "      <td></td>        <th>coef</th>     <th>std err</th>      <th>t</th>      <th>P>|t|</th>  <th>[0.025</th>    <th>0.975]</th>  \n",
       "</tr>\n",
       "<tr>\n",
       "  <th>yr_built</th> <td>  523.7036</td> <td>    2.334</td> <td>  224.350</td> <td> 0.000</td> <td>  519.128</td> <td>  528.279</td>\n",
       "</tr>\n",
       "</table>\n",
       "<table class=\"simpletable\">\n",
       "<tr>\n",
       "  <th>Omnibus:</th>       <td>31036.770</td> <th>  Durbin-Watson:     </th>  <td>   1.899</td>  \n",
       "</tr>\n",
       "<tr>\n",
       "  <th>Prob(Omnibus):</th>  <td> 0.000</td>   <th>  Jarque-Bera (JB):  </th> <td>8624588.386</td>\n",
       "</tr>\n",
       "<tr>\n",
       "  <th>Skew:</th>           <td> 5.947</td>   <th>  Prob(JB):          </th>  <td>    0.00</td>  \n",
       "</tr>\n",
       "<tr>\n",
       "  <th>Kurtosis:</th>       <td>90.943</td>   <th>  Cond. No.          </th>  <td>    1.00</td>  \n",
       "</tr>\n",
       "</table><br/><br/>Notes:<br/>[1] R² is computed without centering (uncentered) since the model does not contain a constant.<br/>[2] Standard Errors assume that the covariance matrix of the errors is correctly specified."
      ],
      "text/plain": [
       "<class 'statsmodels.iolib.summary.Summary'>\n",
       "\"\"\"\n",
       "                                 OLS Regression Results                                \n",
       "=======================================================================================\n",
       "Dep. Variable:                  price   R-squared (uncentered):                   0.657\n",
       "Model:                            OLS   Adj. R-squared (uncentered):              0.657\n",
       "Method:                 Least Squares   F-statistic:                          5.033e+04\n",
       "Date:                Thu, 08 Dec 2022   Prob (F-statistic):                        0.00\n",
       "Time:                        15:12:07   Log-Likelihood:                     -3.9275e+05\n",
       "No. Observations:               26283   AIC:                                  7.855e+05\n",
       "Df Residuals:                   26282   BIC:                                  7.855e+05\n",
       "Df Model:                           1                                                  \n",
       "Covariance Type:            nonrobust                                                  \n",
       "==============================================================================\n",
       "                 coef    std err          t      P>|t|      [0.025      0.975]\n",
       "------------------------------------------------------------------------------\n",
       "yr_built     523.7036      2.334    224.350      0.000     519.128     528.279\n",
       "==============================================================================\n",
       "Omnibus:                    31036.770   Durbin-Watson:                   1.899\n",
       "Prob(Omnibus):                  0.000   Jarque-Bera (JB):          8624588.386\n",
       "Skew:                           5.947   Prob(JB):                         0.00\n",
       "Kurtosis:                      90.943   Cond. No.                         1.00\n",
       "==============================================================================\n",
       "\n",
       "Notes:\n",
       "[1] R² is computed without centering (uncentered) since the model does not contain a constant.\n",
       "[2] Standard Errors assume that the covariance matrix of the errors is correctly specified.\n",
       "\"\"\""
      ]
     },
     "execution_count": 35,
     "metadata": {},
     "output_type": "execute_result"
    }
   ],
   "source": [
    "# Real Estate rule of thumb: older houses tend to be cheaper than new houses\n",
    "\n",
    "# Potential Downside: older houses also tend to cost more in upkeep, maintenance. \n",
    "\n",
    "# As a renter, What age of house is best to buy to minimize initial cost?\n",
    "\n",
    "y = df['price']\n",
    "x = df['yr_built']\n",
    "model = sm.OLS(y,x).fit()\n",
    "\n",
    "model.summary()"
   ]
  },
  {
   "cell_type": "code",
   "execution_count": 37,
   "metadata": {},
   "outputs": [],
   "source": [
    "#Older houses are cheaper than newer houses so not interesting"
   ]
  },
  {
   "cell_type": "code",
   "execution_count": null,
   "metadata": {},
   "outputs": [],
   "source": []
  }
 ],
 "metadata": {
  "kernelspec": {
   "display_name": "Python (learn-env)",
   "language": "python",
   "name": "learn-env"
  },
  "language_info": {
   "codemirror_mode": {
    "name": "ipython",
    "version": 3
   },
   "file_extension": ".py",
   "mimetype": "text/x-python",
   "name": "python",
   "nbconvert_exporter": "python",
   "pygments_lexer": "ipython3",
   "version": "3.8.5"
  },
  "toc": {
   "base_numbering": 1,
   "nav_menu": {},
   "number_sections": true,
   "sideBar": true,
   "skip_h1_title": false,
   "title_cell": "Table of Contents",
   "title_sidebar": "Contents",
   "toc_cell": false,
   "toc_position": {},
   "toc_section_display": true,
   "toc_window_display": false
  }
 },
 "nbformat": 4,
 "nbformat_minor": 4
}
