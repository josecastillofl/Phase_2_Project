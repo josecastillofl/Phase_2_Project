{
 "cells": [
  {
   "cell_type": "code",
   "execution_count": 1,
   "metadata": {},
   "outputs": [],
   "source": [
    "# Imports\n",
    "\n",
    "import pandas as pd\n",
    "import numpy as np\n",
    "import matplotlib.pyplot as plt\n",
    "import sklearn as sk\n",
    "import statsmodels.api as sm\n",
    "import seaborn as sns\n",
    "from scipy import stats\n",
    "from sklearn.preprocessing import StandardScaler, OneHotEncoder, OrdinalEncoder\n",
    "\n",
    "%matplotlib inline"
   ]
  },
  {
   "cell_type": "markdown",
   "metadata": {},
   "source": [
    "# Data Understanding"
   ]
  },
  {
   "cell_type": "code",
   "execution_count": 2,
   "metadata": {},
   "outputs": [],
   "source": [
    "# Read in Data\n",
    "data = pd.read_csv('data/kc_house_data.csv')\n",
    "\n",
    "pd.set_option('display.float_format', lambda x: '%.2f' % x)"
   ]
  },
  {
   "cell_type": "code",
   "execution_count": 3,
   "metadata": {
    "scrolled": true
   },
   "outputs": [
    {
     "name": "stdout",
     "output_type": "stream",
     "text": [
      "<class 'pandas.core.frame.DataFrame'>\n",
      "RangeIndex: 30155 entries, 0 to 30154\n",
      "Data columns (total 25 columns):\n",
      " #   Column         Non-Null Count  Dtype  \n",
      "---  ------         --------------  -----  \n",
      " 0   id             30155 non-null  int64  \n",
      " 1   date           30155 non-null  object \n",
      " 2   price          30155 non-null  float64\n",
      " 3   bedrooms       30155 non-null  int64  \n",
      " 4   bathrooms      30155 non-null  float64\n",
      " 5   sqft_living    30155 non-null  int64  \n",
      " 6   sqft_lot       30155 non-null  int64  \n",
      " 7   floors         30155 non-null  float64\n",
      " 8   waterfront     30155 non-null  object \n",
      " 9   greenbelt      30155 non-null  object \n",
      " 10  nuisance       30155 non-null  object \n",
      " 11  view           30155 non-null  object \n",
      " 12  condition      30155 non-null  object \n",
      " 13  grade          30155 non-null  object \n",
      " 14  heat_source    30123 non-null  object \n",
      " 15  sewer_system   30141 non-null  object \n",
      " 16  sqft_above     30155 non-null  int64  \n",
      " 17  sqft_basement  30155 non-null  int64  \n",
      " 18  sqft_garage    30155 non-null  int64  \n",
      " 19  sqft_patio     30155 non-null  int64  \n",
      " 20  yr_built       30155 non-null  int64  \n",
      " 21  yr_renovated   30155 non-null  int64  \n",
      " 22  address        30155 non-null  object \n",
      " 23  lat            30155 non-null  float64\n",
      " 24  long           30155 non-null  float64\n",
      "dtypes: float64(5), int64(10), object(10)\n",
      "memory usage: 5.8+ MB\n"
     ]
    }
   ],
   "source": [
    "data.info()"
   ]
  },
  {
   "cell_type": "code",
   "execution_count": 4,
   "metadata": {},
   "outputs": [
    {
     "data": {
      "text/html": [
       "<div>\n",
       "<style scoped>\n",
       "    .dataframe tbody tr th:only-of-type {\n",
       "        vertical-align: middle;\n",
       "    }\n",
       "\n",
       "    .dataframe tbody tr th {\n",
       "        vertical-align: top;\n",
       "    }\n",
       "\n",
       "    .dataframe thead th {\n",
       "        text-align: right;\n",
       "    }\n",
       "</style>\n",
       "<table border=\"1\" class=\"dataframe\">\n",
       "  <thead>\n",
       "    <tr style=\"text-align: right;\">\n",
       "      <th></th>\n",
       "      <th>id</th>\n",
       "      <th>price</th>\n",
       "      <th>bedrooms</th>\n",
       "      <th>bathrooms</th>\n",
       "      <th>sqft_living</th>\n",
       "      <th>sqft_lot</th>\n",
       "      <th>floors</th>\n",
       "      <th>sqft_above</th>\n",
       "      <th>sqft_basement</th>\n",
       "      <th>sqft_garage</th>\n",
       "      <th>sqft_patio</th>\n",
       "      <th>yr_built</th>\n",
       "      <th>yr_renovated</th>\n",
       "      <th>lat</th>\n",
       "      <th>long</th>\n",
       "    </tr>\n",
       "  </thead>\n",
       "  <tbody>\n",
       "    <tr>\n",
       "      <th>count</th>\n",
       "      <td>30155.00</td>\n",
       "      <td>30155.00</td>\n",
       "      <td>30155.00</td>\n",
       "      <td>30155.00</td>\n",
       "      <td>30155.00</td>\n",
       "      <td>30155.00</td>\n",
       "      <td>30155.00</td>\n",
       "      <td>30155.00</td>\n",
       "      <td>30155.00</td>\n",
       "      <td>30155.00</td>\n",
       "      <td>30155.00</td>\n",
       "      <td>30155.00</td>\n",
       "      <td>30155.00</td>\n",
       "      <td>30155.00</td>\n",
       "      <td>30155.00</td>\n",
       "    </tr>\n",
       "    <tr>\n",
       "      <th>mean</th>\n",
       "      <td>4538103795.03</td>\n",
       "      <td>1108535.84</td>\n",
       "      <td>3.41</td>\n",
       "      <td>2.33</td>\n",
       "      <td>2112.42</td>\n",
       "      <td>16723.60</td>\n",
       "      <td>1.54</td>\n",
       "      <td>1809.83</td>\n",
       "      <td>476.04</td>\n",
       "      <td>330.21</td>\n",
       "      <td>217.41</td>\n",
       "      <td>1975.16</td>\n",
       "      <td>90.92</td>\n",
       "      <td>47.33</td>\n",
       "      <td>-121.32</td>\n",
       "    </tr>\n",
       "    <tr>\n",
       "      <th>std</th>\n",
       "      <td>2882587298.12</td>\n",
       "      <td>896385.66</td>\n",
       "      <td>0.98</td>\n",
       "      <td>0.89</td>\n",
       "      <td>974.04</td>\n",
       "      <td>60382.60</td>\n",
       "      <td>0.57</td>\n",
       "      <td>878.31</td>\n",
       "      <td>579.63</td>\n",
       "      <td>285.77</td>\n",
       "      <td>245.30</td>\n",
       "      <td>32.07</td>\n",
       "      <td>416.47</td>\n",
       "      <td>1.43</td>\n",
       "      <td>5.73</td>\n",
       "    </tr>\n",
       "    <tr>\n",
       "      <th>min</th>\n",
       "      <td>1000055.00</td>\n",
       "      <td>27360.00</td>\n",
       "      <td>0.00</td>\n",
       "      <td>0.00</td>\n",
       "      <td>3.00</td>\n",
       "      <td>402.00</td>\n",
       "      <td>1.00</td>\n",
       "      <td>2.00</td>\n",
       "      <td>0.00</td>\n",
       "      <td>0.00</td>\n",
       "      <td>0.00</td>\n",
       "      <td>1900.00</td>\n",
       "      <td>0.00</td>\n",
       "      <td>21.27</td>\n",
       "      <td>-157.79</td>\n",
       "    </tr>\n",
       "    <tr>\n",
       "      <th>25%</th>\n",
       "      <td>2064175145.00</td>\n",
       "      <td>648000.00</td>\n",
       "      <td>3.00</td>\n",
       "      <td>2.00</td>\n",
       "      <td>1420.00</td>\n",
       "      <td>4850.00</td>\n",
       "      <td>1.00</td>\n",
       "      <td>1180.00</td>\n",
       "      <td>0.00</td>\n",
       "      <td>0.00</td>\n",
       "      <td>40.00</td>\n",
       "      <td>1953.00</td>\n",
       "      <td>0.00</td>\n",
       "      <td>47.41</td>\n",
       "      <td>-122.33</td>\n",
       "    </tr>\n",
       "    <tr>\n",
       "      <th>50%</th>\n",
       "      <td>3874010800.00</td>\n",
       "      <td>860000.00</td>\n",
       "      <td>3.00</td>\n",
       "      <td>2.50</td>\n",
       "      <td>1920.00</td>\n",
       "      <td>7480.00</td>\n",
       "      <td>1.50</td>\n",
       "      <td>1560.00</td>\n",
       "      <td>0.00</td>\n",
       "      <td>400.00</td>\n",
       "      <td>150.00</td>\n",
       "      <td>1977.00</td>\n",
       "      <td>0.00</td>\n",
       "      <td>47.55</td>\n",
       "      <td>-122.23</td>\n",
       "    </tr>\n",
       "    <tr>\n",
       "      <th>75%</th>\n",
       "      <td>7287100141.00</td>\n",
       "      <td>1300000.00</td>\n",
       "      <td>4.00</td>\n",
       "      <td>3.00</td>\n",
       "      <td>2619.50</td>\n",
       "      <td>10579.00</td>\n",
       "      <td>2.00</td>\n",
       "      <td>2270.00</td>\n",
       "      <td>940.00</td>\n",
       "      <td>510.00</td>\n",
       "      <td>320.00</td>\n",
       "      <td>2003.00</td>\n",
       "      <td>0.00</td>\n",
       "      <td>47.67</td>\n",
       "      <td>-122.12</td>\n",
       "    </tr>\n",
       "    <tr>\n",
       "      <th>max</th>\n",
       "      <td>9904000012.00</td>\n",
       "      <td>30750000.00</td>\n",
       "      <td>13.00</td>\n",
       "      <td>10.50</td>\n",
       "      <td>15360.00</td>\n",
       "      <td>3253932.00</td>\n",
       "      <td>4.00</td>\n",
       "      <td>12660.00</td>\n",
       "      <td>8020.00</td>\n",
       "      <td>3580.00</td>\n",
       "      <td>4370.00</td>\n",
       "      <td>2022.00</td>\n",
       "      <td>2022.00</td>\n",
       "      <td>64.82</td>\n",
       "      <td>-70.07</td>\n",
       "    </tr>\n",
       "  </tbody>\n",
       "</table>\n",
       "</div>"
      ],
      "text/plain": [
       "                 id       price  bedrooms  bathrooms  sqft_living   sqft_lot  \\\n",
       "count      30155.00    30155.00  30155.00   30155.00     30155.00   30155.00   \n",
       "mean  4538103795.03  1108535.84      3.41       2.33      2112.42   16723.60   \n",
       "std   2882587298.12   896385.66      0.98       0.89       974.04   60382.60   \n",
       "min      1000055.00    27360.00      0.00       0.00         3.00     402.00   \n",
       "25%   2064175145.00   648000.00      3.00       2.00      1420.00    4850.00   \n",
       "50%   3874010800.00   860000.00      3.00       2.50      1920.00    7480.00   \n",
       "75%   7287100141.00  1300000.00      4.00       3.00      2619.50   10579.00   \n",
       "max   9904000012.00 30750000.00     13.00      10.50     15360.00 3253932.00   \n",
       "\n",
       "        floors  sqft_above  sqft_basement  sqft_garage  sqft_patio  yr_built  \\\n",
       "count 30155.00    30155.00       30155.00     30155.00    30155.00  30155.00   \n",
       "mean      1.54     1809.83         476.04       330.21      217.41   1975.16   \n",
       "std       0.57      878.31         579.63       285.77      245.30     32.07   \n",
       "min       1.00        2.00           0.00         0.00        0.00   1900.00   \n",
       "25%       1.00     1180.00           0.00         0.00       40.00   1953.00   \n",
       "50%       1.50     1560.00           0.00       400.00      150.00   1977.00   \n",
       "75%       2.00     2270.00         940.00       510.00      320.00   2003.00   \n",
       "max       4.00    12660.00        8020.00      3580.00     4370.00   2022.00   \n",
       "\n",
       "       yr_renovated      lat     long  \n",
       "count      30155.00 30155.00 30155.00  \n",
       "mean          90.92    47.33  -121.32  \n",
       "std          416.47     1.43     5.73  \n",
       "min            0.00    21.27  -157.79  \n",
       "25%            0.00    47.41  -122.33  \n",
       "50%            0.00    47.55  -122.23  \n",
       "75%            0.00    47.67  -122.12  \n",
       "max         2022.00    64.82   -70.07  "
      ]
     },
     "execution_count": 4,
     "metadata": {},
     "output_type": "execute_result"
    }
   ],
   "source": [
    "data.describe()"
   ]
  },
  {
   "cell_type": "markdown",
   "metadata": {},
   "source": [
    "# Dropping Features"
   ]
  },
  {
   "cell_type": "code",
   "execution_count": 5,
   "metadata": {},
   "outputs": [],
   "source": [
    "# Dropping Features / Columns that will not be used\n",
    "# Reason, these features can not be changed (i.e. you can not change the address)\n",
    "\n",
    "df = data.drop(['greenbelt', 'waterfront', 'heat_source', 'nuisance', 'sewer_system', 'id', 'date', 'sqft_lot', 'sqft_above', 'view', 'yr_built','yr_renovated', 'condition', 'address', 'lat', 'long'], axis=1)"
   ]
  },
  {
   "cell_type": "code",
   "execution_count": 6,
   "metadata": {},
   "outputs": [],
   "source": [
    "# Dropping Nulls\n",
    "df = df.dropna()"
   ]
  },
  {
   "cell_type": "code",
   "execution_count": 7,
   "metadata": {},
   "outputs": [],
   "source": [
    "# Dropping 0 bedrooms and bathrooms  \n",
    "df = df[df['bedrooms'] != 0]\n",
    "df = df[df['bathrooms'] != 0]"
   ]
  },
  {
   "cell_type": "code",
   "execution_count": 8,
   "metadata": {},
   "outputs": [],
   "source": [
    "df_clean = df.copy()\n",
    "\n",
    "outliers = ['sqft_living','price']\n",
    "\n",
    "for col in outliers:\n",
    "    df_clean = df_clean[(df_clean[col] > np.percentile(df_clean[col], .25)) & (df_clean[col] < np.percentile(df_clean[col], 99.75))]"
   ]
  },
  {
   "cell_type": "code",
   "execution_count": 9,
   "metadata": {},
   "outputs": [
    {
     "name": "stdout",
     "output_type": "stream",
     "text": [
      "<class 'pandas.core.frame.DataFrame'>\n",
      "Int64Index: 29799 entries, 0 to 30154\n",
      "Data columns (total 9 columns):\n",
      " #   Column         Non-Null Count  Dtype  \n",
      "---  ------         --------------  -----  \n",
      " 0   price          29799 non-null  float64\n",
      " 1   bedrooms       29799 non-null  int64  \n",
      " 2   bathrooms      29799 non-null  float64\n",
      " 3   sqft_living    29799 non-null  int64  \n",
      " 4   floors         29799 non-null  float64\n",
      " 5   grade          29799 non-null  object \n",
      " 6   sqft_basement  29799 non-null  int64  \n",
      " 7   sqft_garage    29799 non-null  int64  \n",
      " 8   sqft_patio     29799 non-null  int64  \n",
      "dtypes: float64(3), int64(5), object(1)\n",
      "memory usage: 2.3+ MB\n"
     ]
    }
   ],
   "source": [
    "df_clean.info()"
   ]
  },
  {
   "cell_type": "code",
   "execution_count": 10,
   "metadata": {},
   "outputs": [
    {
     "data": {
      "text/html": [
       "<div>\n",
       "<style scoped>\n",
       "    .dataframe tbody tr th:only-of-type {\n",
       "        vertical-align: middle;\n",
       "    }\n",
       "\n",
       "    .dataframe tbody tr th {\n",
       "        vertical-align: top;\n",
       "    }\n",
       "\n",
       "    .dataframe thead th {\n",
       "        text-align: right;\n",
       "    }\n",
       "</style>\n",
       "<table border=\"1\" class=\"dataframe\">\n",
       "  <thead>\n",
       "    <tr style=\"text-align: right;\">\n",
       "      <th></th>\n",
       "      <th>price</th>\n",
       "      <th>bedrooms</th>\n",
       "      <th>bathrooms</th>\n",
       "      <th>sqft_living</th>\n",
       "      <th>floors</th>\n",
       "      <th>sqft_basement</th>\n",
       "      <th>sqft_garage</th>\n",
       "      <th>sqft_patio</th>\n",
       "    </tr>\n",
       "  </thead>\n",
       "  <tbody>\n",
       "    <tr>\n",
       "      <th>count</th>\n",
       "      <td>29799.00</td>\n",
       "      <td>29799.00</td>\n",
       "      <td>29799.00</td>\n",
       "      <td>29799.00</td>\n",
       "      <td>29799.00</td>\n",
       "      <td>29799.00</td>\n",
       "      <td>29799.00</td>\n",
       "      <td>29799.00</td>\n",
       "    </tr>\n",
       "    <tr>\n",
       "      <th>mean</th>\n",
       "      <td>1077480.62</td>\n",
       "      <td>3.42</td>\n",
       "      <td>2.33</td>\n",
       "      <td>2099.59</td>\n",
       "      <td>1.54</td>\n",
       "      <td>471.87</td>\n",
       "      <td>329.56</td>\n",
       "      <td>215.58</td>\n",
       "    </tr>\n",
       "    <tr>\n",
       "      <th>std</th>\n",
       "      <td>698176.62</td>\n",
       "      <td>0.96</td>\n",
       "      <td>0.86</td>\n",
       "      <td>913.64</td>\n",
       "      <td>0.57</td>\n",
       "      <td>566.64</td>\n",
       "      <td>281.91</td>\n",
       "      <td>239.90</td>\n",
       "    </tr>\n",
       "    <tr>\n",
       "      <th>min</th>\n",
       "      <td>92929.00</td>\n",
       "      <td>1.00</td>\n",
       "      <td>0.50</td>\n",
       "      <td>540.00</td>\n",
       "      <td>1.00</td>\n",
       "      <td>0.00</td>\n",
       "      <td>0.00</td>\n",
       "      <td>0.00</td>\n",
       "    </tr>\n",
       "    <tr>\n",
       "      <th>25%</th>\n",
       "      <td>650000.00</td>\n",
       "      <td>3.00</td>\n",
       "      <td>2.00</td>\n",
       "      <td>1420.00</td>\n",
       "      <td>1.00</td>\n",
       "      <td>0.00</td>\n",
       "      <td>0.00</td>\n",
       "      <td>40.00</td>\n",
       "    </tr>\n",
       "    <tr>\n",
       "      <th>50%</th>\n",
       "      <td>860000.00</td>\n",
       "      <td>3.00</td>\n",
       "      <td>2.50</td>\n",
       "      <td>1920.00</td>\n",
       "      <td>1.50</td>\n",
       "      <td>0.00</td>\n",
       "      <td>400.00</td>\n",
       "      <td>150.00</td>\n",
       "    </tr>\n",
       "    <tr>\n",
       "      <th>75%</th>\n",
       "      <td>1300000.00</td>\n",
       "      <td>4.00</td>\n",
       "      <td>3.00</td>\n",
       "      <td>2610.00</td>\n",
       "      <td>2.00</td>\n",
       "      <td>940.00</td>\n",
       "      <td>510.00</td>\n",
       "      <td>310.00</td>\n",
       "    </tr>\n",
       "    <tr>\n",
       "      <th>max</th>\n",
       "      <td>6500000.00</td>\n",
       "      <td>11.00</td>\n",
       "      <td>9.50</td>\n",
       "      <td>6630.00</td>\n",
       "      <td>4.00</td>\n",
       "      <td>4000.00</td>\n",
       "      <td>3580.00</td>\n",
       "      <td>4370.00</td>\n",
       "    </tr>\n",
       "  </tbody>\n",
       "</table>\n",
       "</div>"
      ],
      "text/plain": [
       "           price  bedrooms  bathrooms  sqft_living   floors  sqft_basement  \\\n",
       "count   29799.00  29799.00   29799.00     29799.00 29799.00       29799.00   \n",
       "mean  1077480.62      3.42       2.33      2099.59     1.54         471.87   \n",
       "std    698176.62      0.96       0.86       913.64     0.57         566.64   \n",
       "min     92929.00      1.00       0.50       540.00     1.00           0.00   \n",
       "25%    650000.00      3.00       2.00      1420.00     1.00           0.00   \n",
       "50%    860000.00      3.00       2.50      1920.00     1.50           0.00   \n",
       "75%   1300000.00      4.00       3.00      2610.00     2.00         940.00   \n",
       "max   6500000.00     11.00       9.50      6630.00     4.00        4000.00   \n",
       "\n",
       "       sqft_garage  sqft_patio  \n",
       "count     29799.00    29799.00  \n",
       "mean        329.56      215.58  \n",
       "std         281.91      239.90  \n",
       "min           0.00        0.00  \n",
       "25%           0.00       40.00  \n",
       "50%         400.00      150.00  \n",
       "75%         510.00      310.00  \n",
       "max        3580.00     4370.00  "
      ]
     },
     "execution_count": 10,
     "metadata": {},
     "output_type": "execute_result"
    }
   ],
   "source": [
    "df_clean.describe()"
   ]
  },
  {
   "cell_type": "code",
   "execution_count": 11,
   "metadata": {
    "scrolled": false
   },
   "outputs": [
    {
     "data": {
      "text/html": [
       "<div>\n",
       "<style scoped>\n",
       "    .dataframe tbody tr th:only-of-type {\n",
       "        vertical-align: middle;\n",
       "    }\n",
       "\n",
       "    .dataframe tbody tr th {\n",
       "        vertical-align: top;\n",
       "    }\n",
       "\n",
       "    .dataframe thead th {\n",
       "        text-align: right;\n",
       "    }\n",
       "</style>\n",
       "<table border=\"1\" class=\"dataframe\">\n",
       "  <thead>\n",
       "    <tr style=\"text-align: right;\">\n",
       "      <th></th>\n",
       "      <th>price</th>\n",
       "      <th>bedrooms</th>\n",
       "      <th>bathrooms</th>\n",
       "      <th>sqft_living</th>\n",
       "      <th>floors</th>\n",
       "      <th>grade</th>\n",
       "      <th>sqft_basement</th>\n",
       "      <th>sqft_garage</th>\n",
       "      <th>sqft_patio</th>\n",
       "    </tr>\n",
       "  </thead>\n",
       "  <tbody>\n",
       "    <tr>\n",
       "      <th>0</th>\n",
       "      <td>675000.00</td>\n",
       "      <td>4</td>\n",
       "      <td>1.00</td>\n",
       "      <td>1180</td>\n",
       "      <td>1.00</td>\n",
       "      <td>7 Average</td>\n",
       "      <td>0</td>\n",
       "      <td>0</td>\n",
       "      <td>40</td>\n",
       "    </tr>\n",
       "    <tr>\n",
       "      <th>1</th>\n",
       "      <td>920000.00</td>\n",
       "      <td>5</td>\n",
       "      <td>2.50</td>\n",
       "      <td>2770</td>\n",
       "      <td>1.00</td>\n",
       "      <td>7 Average</td>\n",
       "      <td>1570</td>\n",
       "      <td>0</td>\n",
       "      <td>240</td>\n",
       "    </tr>\n",
       "    <tr>\n",
       "      <th>2</th>\n",
       "      <td>311000.00</td>\n",
       "      <td>6</td>\n",
       "      <td>2.00</td>\n",
       "      <td>2880</td>\n",
       "      <td>1.00</td>\n",
       "      <td>7 Average</td>\n",
       "      <td>1580</td>\n",
       "      <td>0</td>\n",
       "      <td>0</td>\n",
       "    </tr>\n",
       "    <tr>\n",
       "      <th>3</th>\n",
       "      <td>775000.00</td>\n",
       "      <td>3</td>\n",
       "      <td>3.00</td>\n",
       "      <td>2160</td>\n",
       "      <td>2.00</td>\n",
       "      <td>9 Better</td>\n",
       "      <td>1070</td>\n",
       "      <td>200</td>\n",
       "      <td>270</td>\n",
       "    </tr>\n",
       "    <tr>\n",
       "      <th>4</th>\n",
       "      <td>592500.00</td>\n",
       "      <td>2</td>\n",
       "      <td>2.00</td>\n",
       "      <td>1120</td>\n",
       "      <td>2.00</td>\n",
       "      <td>7 Average</td>\n",
       "      <td>550</td>\n",
       "      <td>550</td>\n",
       "      <td>30</td>\n",
       "    </tr>\n",
       "    <tr>\n",
       "      <th>5</th>\n",
       "      <td>625000.00</td>\n",
       "      <td>2</td>\n",
       "      <td>1.00</td>\n",
       "      <td>1190</td>\n",
       "      <td>1.00</td>\n",
       "      <td>7 Average</td>\n",
       "      <td>0</td>\n",
       "      <td>300</td>\n",
       "      <td>0</td>\n",
       "    </tr>\n",
       "    <tr>\n",
       "      <th>6</th>\n",
       "      <td>1317227.00</td>\n",
       "      <td>3</td>\n",
       "      <td>3.00</td>\n",
       "      <td>2080</td>\n",
       "      <td>1.00</td>\n",
       "      <td>9 Better</td>\n",
       "      <td>0</td>\n",
       "      <td>0</td>\n",
       "      <td>150</td>\n",
       "    </tr>\n",
       "    <tr>\n",
       "      <th>7</th>\n",
       "      <td>820000.00</td>\n",
       "      <td>3</td>\n",
       "      <td>2.50</td>\n",
       "      <td>2214</td>\n",
       "      <td>2.00</td>\n",
       "      <td>8 Good</td>\n",
       "      <td>0</td>\n",
       "      <td>440</td>\n",
       "      <td>206</td>\n",
       "    </tr>\n",
       "    <tr>\n",
       "      <th>8</th>\n",
       "      <td>780000.00</td>\n",
       "      <td>4</td>\n",
       "      <td>2.50</td>\n",
       "      <td>2340</td>\n",
       "      <td>2.00</td>\n",
       "      <td>8 Good</td>\n",
       "      <td>0</td>\n",
       "      <td>440</td>\n",
       "      <td>70</td>\n",
       "    </tr>\n",
       "    <tr>\n",
       "      <th>9</th>\n",
       "      <td>975000.00</td>\n",
       "      <td>4</td>\n",
       "      <td>2.50</td>\n",
       "      <td>2980</td>\n",
       "      <td>2.00</td>\n",
       "      <td>8 Good</td>\n",
       "      <td>0</td>\n",
       "      <td>540</td>\n",
       "      <td>170</td>\n",
       "    </tr>\n",
       "  </tbody>\n",
       "</table>\n",
       "</div>"
      ],
      "text/plain": [
       "       price  bedrooms  bathrooms  sqft_living  floors      grade  \\\n",
       "0  675000.00         4       1.00         1180    1.00  7 Average   \n",
       "1  920000.00         5       2.50         2770    1.00  7 Average   \n",
       "2  311000.00         6       2.00         2880    1.00  7 Average   \n",
       "3  775000.00         3       3.00         2160    2.00   9 Better   \n",
       "4  592500.00         2       2.00         1120    2.00  7 Average   \n",
       "5  625000.00         2       1.00         1190    1.00  7 Average   \n",
       "6 1317227.00         3       3.00         2080    1.00   9 Better   \n",
       "7  820000.00         3       2.50         2214    2.00     8 Good   \n",
       "8  780000.00         4       2.50         2340    2.00     8 Good   \n",
       "9  975000.00         4       2.50         2980    2.00     8 Good   \n",
       "\n",
       "   sqft_basement  sqft_garage  sqft_patio  \n",
       "0              0            0          40  \n",
       "1           1570            0         240  \n",
       "2           1580            0           0  \n",
       "3           1070          200         270  \n",
       "4            550          550          30  \n",
       "5              0          300           0  \n",
       "6              0            0         150  \n",
       "7              0          440         206  \n",
       "8              0          440          70  \n",
       "9              0          540         170  "
      ]
     },
     "execution_count": 11,
     "metadata": {},
     "output_type": "execute_result"
    }
   ],
   "source": [
    "df_clean.head(10)"
   ]
  },
  {
   "cell_type": "code",
   "execution_count": 12,
   "metadata": {},
   "outputs": [],
   "source": [
    "# Dropping outliers without losing 10% of data\n",
    "\n",
    "df_clean = df.copy()\n",
    "outliers = ['sqft_living', 'price']\n",
    "for col in outliers:\n",
    "    df_clean = df_clean[(df_clean[col] > \n",
    "                        np.percentile(df_clean[col], .25)) \n",
    "                        & (df_clean[col] < np.percentile(df_clean[col], 99.75))]"
   ]
  },
  {
   "cell_type": "code",
   "execution_count": 13,
   "metadata": {},
   "outputs": [],
   "source": [
    "df_clean = df_clean[df_clean['bedrooms'] != 0]\n",
    "df_clean = df_clean[df_clean['bedrooms'] != 0]"
   ]
  },
  {
   "cell_type": "code",
   "execution_count": 14,
   "metadata": {
    "scrolled": false
   },
   "outputs": [
    {
     "name": "stdout",
     "output_type": "stream",
     "text": [
      "<class 'pandas.core.frame.DataFrame'>\n",
      "Int64Index: 29799 entries, 0 to 30154\n",
      "Data columns (total 9 columns):\n",
      " #   Column         Non-Null Count  Dtype  \n",
      "---  ------         --------------  -----  \n",
      " 0   price          29799 non-null  float64\n",
      " 1   bedrooms       29799 non-null  int64  \n",
      " 2   bathrooms      29799 non-null  float64\n",
      " 3   sqft_living    29799 non-null  int64  \n",
      " 4   floors         29799 non-null  float64\n",
      " 5   grade          29799 non-null  object \n",
      " 6   sqft_basement  29799 non-null  int64  \n",
      " 7   sqft_garage    29799 non-null  int64  \n",
      " 8   sqft_patio     29799 non-null  int64  \n",
      "dtypes: float64(3), int64(5), object(1)\n",
      "memory usage: 2.3+ MB\n"
     ]
    }
   ],
   "source": [
    "df_clean.info()"
   ]
  },
  {
   "cell_type": "code",
   "execution_count": 15,
   "metadata": {},
   "outputs": [],
   "source": [
    "# Changing basement, patio, and garage to binary\n",
    "# 1 (YES) the property has one or 0 (NO) the property does not have one\n",
    "\n",
    "df['sqft_basement'] = df['sqft_basement'].apply(lambda x: 1 if x > 0 else 0)\n",
    "df['sqft_garage'] = df['sqft_garage'].apply(lambda x: 1 if x > 0 else 0)\n",
    "df['sqft_patio'] = df['sqft_patio'].apply(lambda x: 1 if x > 0 else 0)"
   ]
  },
  {
   "cell_type": "markdown",
   "metadata": {},
   "source": [
    "# Numeric Features"
   ]
  },
  {
   "cell_type": "markdown",
   "metadata": {},
   "source": [
    "## Visuals"
   ]
  },
  {
   "cell_type": "code",
   "execution_count": 16,
   "metadata": {
    "scrolled": true
   },
   "outputs": [
    {
     "data": {
      "text/html": [
       "<div>\n",
       "<style scoped>\n",
       "    .dataframe tbody tr th:only-of-type {\n",
       "        vertical-align: middle;\n",
       "    }\n",
       "\n",
       "    .dataframe tbody tr th {\n",
       "        vertical-align: top;\n",
       "    }\n",
       "\n",
       "    .dataframe thead th {\n",
       "        text-align: right;\n",
       "    }\n",
       "</style>\n",
       "<table border=\"1\" class=\"dataframe\">\n",
       "  <thead>\n",
       "    <tr style=\"text-align: right;\">\n",
       "      <th></th>\n",
       "      <th>price</th>\n",
       "      <th>sqft_living</th>\n",
       "    </tr>\n",
       "  </thead>\n",
       "  <tbody>\n",
       "    <tr>\n",
       "      <th>0</th>\n",
       "      <td>675000.00</td>\n",
       "      <td>1180</td>\n",
       "    </tr>\n",
       "    <tr>\n",
       "      <th>1</th>\n",
       "      <td>920000.00</td>\n",
       "      <td>2770</td>\n",
       "    </tr>\n",
       "    <tr>\n",
       "      <th>2</th>\n",
       "      <td>311000.00</td>\n",
       "      <td>2880</td>\n",
       "    </tr>\n",
       "    <tr>\n",
       "      <th>3</th>\n",
       "      <td>775000.00</td>\n",
       "      <td>2160</td>\n",
       "    </tr>\n",
       "    <tr>\n",
       "      <th>4</th>\n",
       "      <td>592500.00</td>\n",
       "      <td>1120</td>\n",
       "    </tr>\n",
       "  </tbody>\n",
       "</table>\n",
       "</div>"
      ],
      "text/plain": [
       "      price  sqft_living\n",
       "0 675000.00         1180\n",
       "1 920000.00         2770\n",
       "2 311000.00         2880\n",
       "3 775000.00         2160\n",
       "4 592500.00         1120"
      ]
     },
     "execution_count": 16,
     "metadata": {},
     "output_type": "execute_result"
    }
   ],
   "source": [
    "# Creating dataframe for numerics\n",
    "df_numeric = df_clean[['price', 'sqft_living']]\n",
    "df_numeric.head()"
   ]
  },
  {
   "cell_type": "code",
   "execution_count": 17,
   "metadata": {
    "scrolled": true
   },
   "outputs": [
    {
     "data": {
      "text/plain": [
       "<AxesSubplot:xlabel='sqft_living', ylabel='price'>"
      ]
     },
     "execution_count": 17,
     "metadata": {},
     "output_type": "execute_result"
    },
    {
     "data": {
      "image/png": "[encoded data removed]",
      "text/plain": [
       "<Figure size 432x288 with 1 Axes>"
      ]
     },
     "metadata": {
      "needs_background": "light"
     },
     "output_type": "display_data"
    }
   ],
   "source": [
    "sns.scatterplot(x='sqft_living', y='price', data=df_numeric)"
   ]
  },
  {
   "cell_type": "markdown",
   "metadata": {},
   "source": [
    "## Simple Linear Regression"
   ]
  },
  {
   "cell_type": "code",
   "execution_count": 18,
   "metadata": {
    "scrolled": true
   },
   "outputs": [
    {
     "data": {
      "text/plain": [
       "price         1.00\n",
       "sqft_living   0.65\n",
       "Name: price, dtype: float64"
      ]
     },
     "execution_count": 18,
     "metadata": {},
     "output_type": "execute_result"
    }
   ],
   "source": [
    "df_numeric.corr()['price'].sort_values(ascending=False)"
   ]
  },
  {
   "cell_type": "code",
   "execution_count": 19,
   "metadata": {},
   "outputs": [
    {
     "data": {
      "text/html": [
       "<table class=\"simpletable\">\n",
       "<caption>OLS Regression Results</caption>\n",
       "<tr>\n",
       "  <th>Dep. Variable:</th>          <td>price</td>      <th>  R-squared:         </th>  <td>   0.420</td>  \n",
       "</tr>\n",
       "<tr>\n",
       "  <th>Model:</th>                   <td>OLS</td>       <th>  Adj. R-squared:    </th>  <td>   0.420</td>  \n",
       "</tr>\n",
       "<tr>\n",
       "  <th>Method:</th>             <td>Least Squares</td>  <th>  F-statistic:       </th>  <td>2.159e+04</td> \n",
       "</tr>\n",
       "<tr>\n",
       "  <th>Date:</th>             <td>Fri, 09 Dec 2022</td> <th>  Prob (F-statistic):</th>   <td>  0.00</td>   \n",
       "</tr>\n",
       "<tr>\n",
       "  <th>Time:</th>                 <td>11:51:40</td>     <th>  Log-Likelihood:    </th> <td>-4.3514e+05</td>\n",
       "</tr>\n",
       "<tr>\n",
       "  <th>No. Observations:</th>      <td> 29799</td>      <th>  AIC:               </th>  <td>8.703e+05</td> \n",
       "</tr>\n",
       "<tr>\n",
       "  <th>Df Residuals:</th>          <td> 29797</td>      <th>  BIC:               </th>  <td>8.703e+05</td> \n",
       "</tr>\n",
       "<tr>\n",
       "  <th>Df Model:</th>              <td>     1</td>      <th>                     </th>      <td> </td>     \n",
       "</tr>\n",
       "<tr>\n",
       "  <th>Covariance Type:</th>      <td>nonrobust</td>    <th>                     </th>      <td> </td>     \n",
       "</tr>\n",
       "</table>\n",
       "<table class=\"simpletable\">\n",
       "<tr>\n",
       "       <td></td>          <th>coef</th>     <th>std err</th>      <th>t</th>      <th>P>|t|</th>  <th>[0.025</th>    <th>0.975]</th>  \n",
       "</tr>\n",
       "<tr>\n",
       "  <th>const</th>       <td> 3.748e+04</td> <td> 7718.748</td> <td>    4.855</td> <td> 0.000</td> <td> 2.23e+04</td> <td> 5.26e+04</td>\n",
       "</tr>\n",
       "<tr>\n",
       "  <th>sqft_living</th> <td>  495.3360</td> <td>    3.371</td> <td>  146.941</td> <td> 0.000</td> <td>  488.729</td> <td>  501.943</td>\n",
       "</tr>\n",
       "</table>\n",
       "<table class=\"simpletable\">\n",
       "<tr>\n",
       "  <th>Omnibus:</th>       <td>14018.274</td> <th>  Durbin-Watson:     </th>  <td>   1.927</td> \n",
       "</tr>\n",
       "<tr>\n",
       "  <th>Prob(Omnibus):</th>  <td> 0.000</td>   <th>  Jarque-Bera (JB):  </th> <td>159753.560</td>\n",
       "</tr>\n",
       "<tr>\n",
       "  <th>Skew:</th>           <td> 1.974</td>   <th>  Prob(JB):          </th>  <td>    0.00</td> \n",
       "</tr>\n",
       "<tr>\n",
       "  <th>Kurtosis:</th>       <td>13.634</td>   <th>  Cond. No.          </th>  <td>5.74e+03</td> \n",
       "</tr>\n",
       "</table><br/><br/>Notes:<br/>[1] Standard Errors assume that the covariance matrix of the errors is correctly specified.<br/>[2] The condition number is large, 5.74e+03. This might indicate that there are<br/>strong multicollinearity or other numerical problems."
      ],
      "text/plain": [
       "<class 'statsmodels.iolib.summary.Summary'>\n",
       "\"\"\"\n",
       "                            OLS Regression Results                            \n",
       "==============================================================================\n",
       "Dep. Variable:                  price   R-squared:                       0.420\n",
       "Model:                            OLS   Adj. R-squared:                  0.420\n",
       "Method:                 Least Squares   F-statistic:                 2.159e+04\n",
       "Date:                Fri, 09 Dec 2022   Prob (F-statistic):               0.00\n",
       "Time:                        11:51:40   Log-Likelihood:            -4.3514e+05\n",
       "No. Observations:               29799   AIC:                         8.703e+05\n",
       "Df Residuals:                   29797   BIC:                         8.703e+05\n",
       "Df Model:                           1                                         \n",
       "Covariance Type:            nonrobust                                         \n",
       "===============================================================================\n",
       "                  coef    std err          t      P>|t|      [0.025      0.975]\n",
       "-------------------------------------------------------------------------------\n",
       "const        3.748e+04   7718.748      4.855      0.000    2.23e+04    5.26e+04\n",
       "sqft_living   495.3360      3.371    146.941      0.000     488.729     501.943\n",
       "==============================================================================\n",
       "Omnibus:                    14018.274   Durbin-Watson:                   1.927\n",
       "Prob(Omnibus):                  0.000   Jarque-Bera (JB):           159753.560\n",
       "Skew:                           1.974   Prob(JB):                         0.00\n",
       "Kurtosis:                      13.634   Cond. No.                     5.74e+03\n",
       "==============================================================================\n",
       "\n",
       "Notes:\n",
       "[1] Standard Errors assume that the covariance matrix of the errors is correctly specified.\n",
       "[2] The condition number is large, 5.74e+03. This might indicate that there are\n",
       "strong multicollinearity or other numerical problems.\n",
       "\"\"\""
      ]
     },
     "execution_count": 19,
     "metadata": {},
     "output_type": "execute_result"
    }
   ],
   "source": [
    "# Simple Linear Regression - Numeric \n",
    "y = df_numeric['price']\n",
    "X = sm.add_constant(df_numeric.drop(['price'],axis=1))\n",
    "model = sm.OLS(y, X).fit()\n",
    "model.summary()"
   ]
  },
  {
   "cell_type": "markdown",
   "metadata": {},
   "source": [
    "# Categorical Features"
   ]
  },
  {
   "cell_type": "code",
   "execution_count": 20,
   "metadata": {
    "scrolled": true
   },
   "outputs": [
    {
     "data": {
      "text/html": [
       "<div>\n",
       "<style scoped>\n",
       "    .dataframe tbody tr th:only-of-type {\n",
       "        vertical-align: middle;\n",
       "    }\n",
       "\n",
       "    .dataframe tbody tr th {\n",
       "        vertical-align: top;\n",
       "    }\n",
       "\n",
       "    .dataframe thead th {\n",
       "        text-align: right;\n",
       "    }\n",
       "</style>\n",
       "<table border=\"1\" class=\"dataframe\">\n",
       "  <thead>\n",
       "    <tr style=\"text-align: right;\">\n",
       "      <th></th>\n",
       "      <th>price</th>\n",
       "      <th>bedrooms</th>\n",
       "      <th>bathrooms</th>\n",
       "      <th>floors</th>\n",
       "      <th>grade</th>\n",
       "      <th>sqft_basement</th>\n",
       "      <th>sqft_garage</th>\n",
       "      <th>sqft_patio</th>\n",
       "    </tr>\n",
       "  </thead>\n",
       "  <tbody>\n",
       "    <tr>\n",
       "      <th>0</th>\n",
       "      <td>675000.00</td>\n",
       "      <td>4</td>\n",
       "      <td>1.00</td>\n",
       "      <td>1.00</td>\n",
       "      <td>7 Average</td>\n",
       "      <td>0</td>\n",
       "      <td>0</td>\n",
       "      <td>1</td>\n",
       "    </tr>\n",
       "    <tr>\n",
       "      <th>1</th>\n",
       "      <td>920000.00</td>\n",
       "      <td>5</td>\n",
       "      <td>2.50</td>\n",
       "      <td>1.00</td>\n",
       "      <td>7 Average</td>\n",
       "      <td>1</td>\n",
       "      <td>0</td>\n",
       "      <td>1</td>\n",
       "    </tr>\n",
       "    <tr>\n",
       "      <th>2</th>\n",
       "      <td>311000.00</td>\n",
       "      <td>6</td>\n",
       "      <td>2.00</td>\n",
       "      <td>1.00</td>\n",
       "      <td>7 Average</td>\n",
       "      <td>1</td>\n",
       "      <td>0</td>\n",
       "      <td>0</td>\n",
       "    </tr>\n",
       "    <tr>\n",
       "      <th>3</th>\n",
       "      <td>775000.00</td>\n",
       "      <td>3</td>\n",
       "      <td>3.00</td>\n",
       "      <td>2.00</td>\n",
       "      <td>9 Better</td>\n",
       "      <td>1</td>\n",
       "      <td>1</td>\n",
       "      <td>1</td>\n",
       "    </tr>\n",
       "    <tr>\n",
       "      <th>4</th>\n",
       "      <td>592500.00</td>\n",
       "      <td>2</td>\n",
       "      <td>2.00</td>\n",
       "      <td>2.00</td>\n",
       "      <td>7 Average</td>\n",
       "      <td>1</td>\n",
       "      <td>1</td>\n",
       "      <td>1</td>\n",
       "    </tr>\n",
       "  </tbody>\n",
       "</table>\n",
       "</div>"
      ],
      "text/plain": [
       "      price  bedrooms  bathrooms  floors      grade  sqft_basement  \\\n",
       "0 675000.00         4       1.00    1.00  7 Average              0   \n",
       "1 920000.00         5       2.50    1.00  7 Average              1   \n",
       "2 311000.00         6       2.00    1.00  7 Average              1   \n",
       "3 775000.00         3       3.00    2.00   9 Better              1   \n",
       "4 592500.00         2       2.00    2.00  7 Average              1   \n",
       "\n",
       "   sqft_garage  sqft_patio  \n",
       "0            0           1  \n",
       "1            0           1  \n",
       "2            0           0  \n",
       "3            1           1  \n",
       "4            1           1  "
      ]
     },
     "execution_count": 20,
     "metadata": {},
     "output_type": "execute_result"
    }
   ],
   "source": [
    "df_cat = df.drop(['sqft_living'], axis=1)\n",
    "df_cat.head()"
   ]
  },
  {
   "cell_type": "code",
   "execution_count": 21,
   "metadata": {},
   "outputs": [],
   "source": [
    "# Changing basement, patio, and garage to binary\n",
    "# 1 (YES) the property has one or 0 (NO) the property does not have one\n",
    "\n",
    "df_clean['sqft_basement'] = df_clean['sqft_basement'].apply(lambda x: 1 if x > 0 else 0)\n",
    "df_clean['sqft_garage'] = df_clean['sqft_garage'].apply(lambda x: 1 if x > 0 else 0)\n",
    "df_clean['sqft_patio'] = df_clean['sqft_patio'].apply(lambda x: 1 if x > 0 else 0)"
   ]
  },
  {
   "cell_type": "code",
   "execution_count": 22,
   "metadata": {
    "scrolled": true
   },
   "outputs": [],
   "source": [
    "# Creating dummy variables for bedrooms, bathrooms, floors\n",
    "dummy_bedrooms = pd.get_dummies(df_clean['bedrooms'], drop_first=True)\n",
    "dummy_bathrooms = pd.get_dummies(df_clean['bathrooms'], drop_first=True)\n",
    "dummy_floors = pd.get_dummies(df_clean['floors'], drop_first=True)"
   ]
  },
  {
   "cell_type": "code",
   "execution_count": 23,
   "metadata": {},
   "outputs": [
    {
     "data": {
      "text/plain": [
       "Text(0.5, 1.0, 'Price Based on Bedrooms')"
      ]
     },
     "execution_count": 23,
     "metadata": {},
     "output_type": "execute_result"
    },
    {
     "data": {
      "image/png": "[encoded data removed]",
      "text/plain": [
       "<Figure size 720x504 with 1 Axes>"
      ]
     },
     "metadata": {
      "needs_background": "light"
     },
     "output_type": "display_data"
    }
   ],
   "source": [
    "plt.figure(figsize=(10, 7))\n",
    "sns.barplot(x='bedrooms', y='price', data=df_cat)\n",
    "plt.xlabel(\"Bedrooms\")\n",
    "plt.ylabel(\"Price in Millions\")\n",
    "plt.title('Price Based on Bedrooms')"
   ]
  },
  {
   "cell_type": "code",
   "execution_count": 24,
   "metadata": {},
   "outputs": [
    {
     "data": {
      "text/plain": [
       "Text(0.5, 1.0, 'Price Based on Bathrooms')"
      ]
     },
     "execution_count": 24,
     "metadata": {},
     "output_type": "execute_result"
    },
    {
     "data": {
      "image/png": "[encoded data removed]",
      "text/plain": [
       "<Figure size 720x504 with 1 Axes>"
      ]
     },
     "metadata": {
      "needs_background": "light"
     },
     "output_type": "display_data"
    }
   ],
   "source": [
    "plt.figure(figsize=(10, 7))\n",
    "sns.barplot(x='bathrooms', y='price', data=df_cat)\n",
    "plt.xlabel(\"Bathrooms\")\n",
    "plt.ylabel(\"Price in Millions\")\n",
    "plt.title('Price Based on Bathrooms')"
   ]
  },
  {
   "cell_type": "code",
   "execution_count": 25,
   "metadata": {
    "scrolled": false
   },
   "outputs": [
    {
     "data": {
      "text/plain": [
       "Text(0.5, 1.0, 'Price Based on Bathrooms')"
      ]
     },
     "execution_count": 25,
     "metadata": {},
     "output_type": "execute_result"
    },
    {
     "data": {
      "image/png": "[encoded data removed]",
      "text/plain": [
       "<Figure size 720x504 with 1 Axes>"
      ]
     },
     "metadata": {
      "needs_background": "light"
     },
     "output_type": "display_data"
    }
   ],
   "source": [
    "plt.figure(figsize=(10, 7))\n",
    "sns.lineplot(x='bathrooms', y='price', data=df_cat)\n",
    "plt.xlabel(\"Bathrooms\")\n",
    "plt.ylabel(\"Price in Millions\")\n",
    "plt.title('Price Based on Bathrooms')"
   ]
  },
  {
   "cell_type": "code",
   "execution_count": null,
   "metadata": {},
   "outputs": [],
   "source": []
  }
 ],
 "metadata": {
  "kernelspec": {
   "display_name": "Python (learn-env)",
   "language": "python",
   "name": "learn-env"
  },
  "language_info": {
   "codemirror_mode": {
    "name": "ipython",
    "version": 3
   },
   "file_extension": ".py",
   "mimetype": "text/x-python",
   "name": "python",
   "nbconvert_exporter": "python",
   "pygments_lexer": "ipython3",
   "version": "3.8.5"
  },
  "toc": {
   "base_numbering": 1,
   "nav_menu": {},
   "number_sections": true,
   "sideBar": true,
   "skip_h1_title": false,
   "title_cell": "Table of Contents",
   "title_sidebar": "Contents",
   "toc_cell": false,
   "toc_position": {},
   "toc_section_display": true,
   "toc_window_display": false
  }
 },
 "nbformat": 4,
 "nbformat_minor": 4
}
