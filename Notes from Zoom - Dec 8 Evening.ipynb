{
 "cells": [
  {
   "cell_type": "markdown",
   "metadata": {},
   "source": [
    "# Zoom Notes"
   ]
  },
  {
   "cell_type": "markdown",
   "metadata": {},
   "source": [
    "Get rid of waterfront\n",
    "\n",
    "Get rid of:\n",
    "Sqft_lot\n",
    "Waterfront\n",
    "Greenbelt\n",
    "Nuisance \n",
    "View\n",
    "Heat source\n",
    "Sewer system \n",
    "Year renovated \n",
    "Year built \n",
    "Address\n",
    "Lat\n",
    "Long\n",
    "\n",
    "\n",
    "https://www.forbes.com/advisor/mortgages/real-estate/housing-market-predictions/\n",
    "https://www.realestateconsulting.com/the-light-current-housing-cycle-landscape/\n",
    "\n",
    "\n",
    "site:github.com xyz\n",
    "    \n",
    "df['renovated'] = df['yr_renovated'].apply(lambda x: 1 if x > 0 else 0)\n",
    "\n",
    "\n",
    "Upper limit = 75th percentile + (1.5 * IQR)\n",
    "Lower limit = 25th percentile - (1.5*IQR)\n",
    "\n",
    "\n",
    "df = df[df['bedrooms'] != 0]\n",
    "df = df[df['bathrooms'] != 0]"
   ]
  }
 ],
 "metadata": {
  "kernelspec": {
   "display_name": "Python (learn-env)",
   "language": "python",
   "name": "learn-env"
  },
  "language_info": {
   "codemirror_mode": {
    "name": "ipython",
    "version": 3
   },
   "file_extension": ".py",
   "mimetype": "text/x-python",
   "name": "python",
   "nbconvert_exporter": "python",
   "pygments_lexer": "ipython3",
   "version": "3.8.5"
  },
  "toc": {
   "base_numbering": 1,
   "nav_menu": {},
   "number_sections": true,
   "sideBar": true,
   "skip_h1_title": false,
   "title_cell": "Table of Contents",
   "title_sidebar": "Contents",
   "toc_cell": false,
   "toc_position": {},
   "toc_section_display": true,
   "toc_window_display": false
  }
 },
 "nbformat": 4,
 "nbformat_minor": 4
}
