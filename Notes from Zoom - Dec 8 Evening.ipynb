{
 "cells": [
  {
   "cell_type": "markdown",
   "metadata": {},
   "source": [
    "# Business Case"
   ]
  },
  {
   "cell_type": "markdown",
   "metadata": {},
   "source": [
    "https://constructionconsulting.co/ (similar business)\n",
    " \n",
    " * Royal Advisory provides consulting services\n",
    " <br>  \n",
    " \n",
    " * Even though the Seattle housing market is cooling, Seattle real estate is trending towards a buyer's market (https://www.forbes.com/sites/andrewdepietro/2022/12/07/seattle-housing-market/?sh=71c21d585b26)  \n",
    "   * Especially since analysts forecast another housing boom in 2024-2025.\n",
    "        \n",
    " <br>  \n",
    " * Now is a good time for a young Real Estate Development Firm, like (COMPANY), to make informed investments for the potential of a high pay-off in a few years.\n",
    " \n",
    " * To identify investments that maximize both profitability and security, we asked the following questions:\n"
   ]
  },
  {
   "cell_type": "markdown",
   "metadata": {},
   "source": [
    "## Business Questions"
   ]
  },
  {
   "cell_type": "markdown",
   "metadata": {},
   "source": [
    "*Results: Describing the overall model metrics and feature coefficients\n",
    "You need at least **one overall model metric (e.g. r-squared or RMSE) and at least two feature coefficients.**\n",
    "For a business audience, make sure you connect any metrics to real-world implications. You do not need to get into the details of how linear regression works.\n",
    "For a data science audience, you don't need to explain what a metric is, but make sure you explain why you chose that particular one.*\n",
    "\n",
    "* Goal: we want to find the factors that have been associated with high sale prices over the past year.\n",
    "\n",
    "1. What characteristics of a house's living space are most associated with increased prices?\n",
    "   * Does increasing the number of features you have always increase the house's sale price? Or, does your return on investment lower after a certain amount of features?\n",
    " \n",
    "2. Which zip codes - where you can invest in housing at a reasonable price - are the most associated with higher sale prices?\n",
    "    * What neighborhoods are \"up & coming?\" Where can you still buy for cheap and expect to return a profit in a few years?\n",
    "  \n",
    "<font color = 'red'> 3. ??? </font>\n",
    "   \n",
    "***\n",
    "\n",
    "*Rationale: Explaining why you are using statistical analyses rather than basic data analysis\n",
    "For example, why are you using regression coefficients rather than just a graph?\n",
    "What about the problem or data is suitable for this form of analysis?*\n",
    "   \n",
    "Real estate investments are complex– multiple factors work together to influence value.\n",
    "It’s a luck of the draw as to what combination of features you’ll find in the market. So, there’s always going to be trade-offs.\n",
    "\n",
    "This is where regression is useful: regression tells you ~how much~ each quality contributes to value– so you know what qualities to prioritize searching for in a potential investment.\n",
    "\n",
    "<font color = 'red'> **Still need to answer:** *For a data science audience, this includes your reasoning for the changes you applied while iterating between models.* </font>\n",
    "\n",
    "\n",
    "\n"
   ]
  },
  {
   "cell_type": "markdown",
   "metadata": {},
   "source": [
    "# Zoom Notes"
   ]
  },
  {
   "cell_type": "markdown",
   "metadata": {},
   "source": [
    "Get rid of waterfront\n",
    "\n",
    "Get rid of:\n",
    "Sqft_lot\n",
    "Waterfront\n",
    "Greenbelt\n",
    "Nuisance \n",
    "View\n",
    "Heat source\n",
    "Sewer system \n",
    "Year renovated \n",
    "Year built \n",
    "Address\n",
    "Lat\n",
    "Long\n",
    "\n",
    "\n",
    "https://www.forbes.com/advisor/mortgages/real-estate/housing-market-predictions/\n",
    "https://www.realestateconsulting.com/the-light-current-housing-cycle-landscape/\n",
    "\n",
    "\n",
    "site:github.com xyz\n",
    "    \n",
    "df['renovated'] = df['yr_renovated'].apply(lambda x: 1 if x > 0 else 0)\n",
    "\n",
    "\n",
    "Upper limit = 75th percentile + (1.5 * IQR)\n",
    "Lower limit = 25th percentile - (1.5*IQR)\n",
    "\n",
    "\n",
    "df = df[df['bedrooms'] != 0]\n",
    "df = df[df['bathrooms'] != 0]"
   ]
  },
  {
   "cell_type": "code",
   "execution_count": null,
   "metadata": {},
   "outputs": [],
   "source": []
  }
 ],
 "metadata": {
  "kernelspec": {
   "display_name": "Python (learn-env)",
   "language": "python",
   "name": "learn-env"
  },
  "language_info": {
   "codemirror_mode": {
    "name": "ipython",
    "version": 3
   },
   "file_extension": ".py",
   "mimetype": "text/x-python",
   "name": "python",
   "nbconvert_exporter": "python",
   "pygments_lexer": "ipython3",
   "version": "3.8.5"
  },
  "toc": {
   "base_numbering": 1,
   "nav_menu": {},
   "number_sections": true,
   "sideBar": true,
   "skip_h1_title": false,
   "title_cell": "Table of Contents",
   "title_sidebar": "Contents",
   "toc_cell": false,
   "toc_position": {},
   "toc_section_display": true,
   "toc_window_display": false
  }
 },
 "nbformat": 4,
 "nbformat_minor": 4
}
