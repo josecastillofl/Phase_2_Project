{
 "cells": [
  {
   "cell_type": "markdown",
   "metadata": {},
   "source": [
    "# Business Case"
   ]
  },
  {
   "cell_type": "markdown",
   "metadata": {},
   "source": [
    " *Model Business for us to look at:* https://constructionconsulting.co/\n",
    " \n",
    " * Royal Advisory is a Construction Consulting firm. We help contractors and construction companies identify the most valuable home renovations to invest in.\n",
    " <br>  \n",
    " * Because the housing market is cooling rapidly in Seattle, homeowners are increasingly opting to invest in remodeling their current home instead of buying new properties (https://www.king5.com/article/money/markets/real-estate/seattle-home-renovation-housing-cooldown/281-71cb28a8-1bd5-4187-955f-debad072fe53). The demand for home renovators in Seattle has increased by 25% over the past 6 months. \n",
    " <br>\n",
    " * A home renovation company, (NAME), is moving into the Seattle area. As a new business in the city, they need to decide what types of services they should offer. They want to be able to provide their clients the most valuable renovations that will maximize their home's future sale value. Therefore, they hired us to share our recommendations on the best renovation services to offer homeowners.\n",
    " <br>  \n",
    " \n",
    " * Goal: to identify what types of renovation investments increase the sale value of home, we asked the following questions:\n"
   ]
  },
  {
   "cell_type": "markdown",
   "metadata": {},
   "source": [
    "## Business Question"
   ]
  },
  {
   "cell_type": "markdown",
   "metadata": {},
   "source": [
    "*Results: Describing the overall model metrics and feature coefficients\n",
    "You need at least **one overall model metric (e.g. r-squared or RMSE) and at least two feature coefficients.**\n",
    "For a business audience, make sure you connect any metrics to real-world implications. You do not need to get into the details of how linear regression works.\n",
    "For a data science audience, you don't need to explain what a metric is, but make sure you explain why you chose that particular one.*\n",
    "\n",
    "<font color = green> Definitions for our reference: </font> https://www.bicconstruction.com.au/what-is-the-difference-between-a-home-renovationextensionaddition-new-build/\n",
    "\n",
    "1. What types of home additions contribute to a higher sale price?\n",
    "    * Multiple Linear Regression Model\n",
    "        * Additions: Bedrooms, Bathrooms, Garage, Patio, Basement\n",
    "<br>  \n",
    "\n",
    "<br>  \n",
    "\n",
    "2. For home expansions/extensions: which room size is most associated with higher sale price? For which room does size contribute the most to increased house sale price? (Increasing the size of which room is associated with higher prices?)\n",
    "\n",
    "    * Multiple Linear Regression Model. Iterative model (R2 + 2 feature coefficients). \n",
    "        * Start with sqft_living. Add in sqft_garage, sqft_patio, maybe sqft_yard? (sqft_lot - sqft_living)?\n",
    "<br>  \n",
    "\n",
    "<br>  \n",
    "        \n",
    "3. BONUS: 0. (Additional) If we have time, we could run a simple linear regression on grade. If significant it's an advertising treat for our clients"
   ]
  },
  {
   "cell_type": "markdown",
   "metadata": {},
   "source": [
    "## Rationale (rubric directions)\n",
    "\n",
    "*Rationale: Explaining why you are using statistical analyses rather than basic data analysis\n",
    "For example, why are you using regression coefficients rather than just a graph?\n",
    "What about the problem or data is suitable for this form of analysis?*\n",
    "   \n",
    " * Regression coefficients allow us to see how the different parts affect the whole\n",
    " * Each of these factors influence each other and change what their true value is.\n",
    "\n",
    "This is where regression is useful: regression tells you *how much* each quality contributes to value– so you know what qualities to prioritize searching for in a potential investment.\n",
    "\n",
    "<font color = 'red'> **Still need to answer:** *For a data science audience, this includes your reasoning for the changes you applied while iterating between models.* </font>\n",
    "  * If we iterate through Model 1: gives us the opportunity to see how much each (additional) extension is worth. "
   ]
  },
  {
   "cell_type": "markdown",
   "metadata": {},
   "source": [
    "# Data Cleaning\n",
    "\n",
    "1. Continuous Variables by removing outliers based on the z-score rule (z > 3)\n",
    "2. Categorical Variables\n",
    "    - We want to look at what the typical customer would request. Therefore:\n",
    "       - We excluded Bedrooms/Bathrooms < 1 because not relevant to renovators\n",
    "       - Filtered out Bedrooms > because: \n",
    "       few datapoints (outliers) and not our target audience (low number of each category = very rare to encounter in King County\n",
    "       - Filtered out Bathrooms > 6 because: few datapoints (outliers) and not our target audience (low number of each category = very rare to encounter in King County\n",
    "    "
   ]
  },
  {
   "cell_type": "code",
   "execution_count": null,
   "metadata": {},
   "outputs": [],
   "source": []
  },
  {
   "cell_type": "code",
   "execution_count": null,
   "metadata": {},
   "outputs": [],
   "source": []
  }
 ],
 "metadata": {
  "kernelspec": {
   "display_name": "Python (learn-env)",
   "language": "python",
   "name": "learn-env"
  },
  "language_info": {
   "codemirror_mode": {
    "name": "ipython",
    "version": 3
   },
   "file_extension": ".py",
   "mimetype": "text/x-python",
   "name": "python",
   "nbconvert_exporter": "python",
   "pygments_lexer": "ipython3",
   "version": "3.8.5"
  },
  "toc": {
   "base_numbering": 1,
   "nav_menu": {},
   "number_sections": true,
   "sideBar": true,
   "skip_h1_title": false,
   "title_cell": "Table of Contents",
   "title_sidebar": "Contents",
   "toc_cell": false,
   "toc_position": {},
   "toc_section_display": true,
   "toc_window_display": false
  }
 },
 "nbformat": 4,
 "nbformat_minor": 4
}
