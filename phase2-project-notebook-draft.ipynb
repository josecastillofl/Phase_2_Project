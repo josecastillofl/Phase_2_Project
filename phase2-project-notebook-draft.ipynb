{
 "cells": [
  {
   "cell_type": "markdown",
   "metadata": {},
   "source": [
    " <font size = +3.5><b><u><center> Phase 2 Project Notebook </center></u></b></font>"
   ]
  },
  {
   "cell_type": "markdown",
   "metadata": {
    "heading_collapsed": true
   },
   "source": [
    "# Business Understanding"
   ]
  },
  {
   "cell_type": "markdown",
   "metadata": {
    "hidden": true
   },
   "source": [
    " * As a Construction Consulting firm, Royal Advisory helps new home renovation businesses establish themselves in the Seattle market.\n",
    " <br>  \n",
    "  \n",
    "  * With the housing market is cooling rapidly in Seattle, homeowners are increasingly opting to invest in remodeling their current home instead of buying new properties. Given this [increase in demand](https://www.king5.com/article/money/markets/real-estate/seattle-home-renovation-housing-cooldown/281-71cb28a8-1bd5-4187-955f-debad072fe53), now is the perfect time for a home renovation company to move into the Seattle area. \n",
    "  <br>  \n",
    "  \n",
    "  * A new home renovation company, Home Remedies, hired us to recommend the best services to offer to clients looking to increase the sale value of their homes. \n",
    " <br>"
   ]
  },
  {
   "cell_type": "markdown",
   "metadata": {
    "hidden": true
   },
   "source": [
    "## Types of Remodeling Projects\n",
    "\n",
    " * First, based on [industry definitions](https://www.homeadvisor.com/cost/additions-and-remodels/), we identifed three major components of home remodeling projects:\n",
    "     1. **Home Renovations:** Updating the quality of the house's building material\n",
    "     2. **Home Remodeling:** Increasing the size of your home, either through extensions or additions:\n",
    "         2a. **Home Extensions:** Increasing the size of existing section of the house\n",
    "         2b. **Home Additions:** Adding a new section to your home\n",
    "     \n",
    " * We were then guided by these business questions:"
   ]
  },
  {
   "cell_type": "markdown",
   "metadata": {
    "hidden": true
   },
   "source": [
    "## Business Questions: \n",
    "\n",
    "1. For all clients interested in home remodeling (increasing the area of your house, either through *home extensions* or *home additions*, where are the best areas to add square footage?\n",
    "    - Which areas of the house is increased area associated with increased sale value?\n",
    "    - Our model included these common home spaces: Above-Ground Living Space (e.g. rooms, kitchen, hallways), Basement, Garage, Patio, Yard\n",
    "\n",
    "<br> \n",
    "\n",
    "2. For clients specifically interested in *home additions*, what are the best structures to add to increase the sale value of their house?\n",
    "    - What types of home additions contribute to a higher sale price?\n",
    "    \n",
    "<br>  \n",
    "    \n",
    "3. How much do renovations contribute to the sale price of a house? Should clients add build quality renovation projects to their home remodeling projects to increase their house's value?\n",
    "<br>  \n",
    "\n",
    "***"
   ]
  },
  {
   "cell_type": "markdown",
   "metadata": {
    "hidden": true
   },
   "source": [
    "## Data Source & Relevance to Business Case"
   ]
  },
  {
   "cell_type": "markdown",
   "metadata": {
    "hidden": true
   },
   "source": [
    "<font color = green><b><u> Rubric: Data Understanding pt 1 </u></b>\n",
    "    \n",
    "1. Describe the data sources and explain why the data are suitable for the project\n",
    "2. Present the size of the dataset </font>"
   ]
  },
  {
   "cell_type": "markdown",
   "metadata": {
    "hidden": true
   },
   "source": [
    "* Data from King County: all house sale in 2021 (n = 30155)\n",
    "\n",
    "* Current data allows us to see what *features of a house* contributed to house sale price in 2021\n",
    "   * From this, we can infer what types of house changes could increase future house sale price"
   ]
  },
  {
   "cell_type": "markdown",
   "metadata": {},
   "source": [
    "# Data Preparation"
   ]
  },
  {
   "cell_type": "markdown",
   "metadata": {},
   "source": [
    "<font color = green><b><u> Rubric: Data Preparation </u></b></font>\n",
    "\n",
    "1. Instructions or code needed to get and prepare the raw data for analysis\n",
    "2. Code comments and text to explain what your data preparation code does\n",
    "3. Valid justifications for why the steps you took are appropriate for the problem you are solving"
   ]
  },
  {
   "cell_type": "markdown",
   "metadata": {},
   "source": [
    "## Import Packages & Data"
   ]
  },
  {
   "cell_type": "code",
   "execution_count": 1,
   "metadata": {},
   "outputs": [],
   "source": [
    "import pandas as pd\n",
    "import numpy as np\n",
    "import matplotlib.pyplot as plt\n",
    "import sklearn as sk\n",
    "import statsmodels.api as sm\n",
    "import seaborn as sns\n",
    "from scipy import stats\n",
    "\n",
    "%matplotlib inline"
   ]
  },
  {
   "cell_type": "code",
   "execution_count": 2,
   "metadata": {},
   "outputs": [],
   "source": [
    "# Collect entire data \n",
    "\n",
    "data = pd.read_csv('data/kc_house_data.csv')"
   ]
  },
  {
   "cell_type": "markdown",
   "metadata": {},
   "source": [
    "## Exploring Variables in Dataset"
   ]
  },
  {
   "cell_type": "code",
   "execution_count": 3,
   "metadata": {},
   "outputs": [
    {
     "name": "stdout",
     "output_type": "stream",
     "text": [
      "<class 'pandas.core.frame.DataFrame'>\n",
      "RangeIndex: 30155 entries, 0 to 30154\n",
      "Data columns (total 25 columns):\n",
      " #   Column         Non-Null Count  Dtype  \n",
      "---  ------         --------------  -----  \n",
      " 0   id             30155 non-null  int64  \n",
      " 1   date           30155 non-null  object \n",
      " 2   price          30155 non-null  float64\n",
      " 3   bedrooms       30155 non-null  int64  \n",
      " 4   bathrooms      30155 non-null  float64\n",
      " 5   sqft_living    30155 non-null  int64  \n",
      " 6   sqft_lot       30155 non-null  int64  \n",
      " 7   floors         30155 non-null  float64\n",
      " 8   waterfront     30155 non-null  object \n",
      " 9   greenbelt      30155 non-null  object \n",
      " 10  nuisance       30155 non-null  object \n",
      " 11  view           30155 non-null  object \n",
      " 12  condition      30155 non-null  object \n",
      " 13  grade          30155 non-null  object \n",
      " 14  heat_source    30123 non-null  object \n",
      " 15  sewer_system   30141 non-null  object \n",
      " 16  sqft_above     30155 non-null  int64  \n",
      " 17  sqft_basement  30155 non-null  int64  \n",
      " 18  sqft_garage    30155 non-null  int64  \n",
      " 19  sqft_patio     30155 non-null  int64  \n",
      " 20  yr_built       30155 non-null  int64  \n",
      " 21  yr_renovated   30155 non-null  int64  \n",
      " 22  address        30155 non-null  object \n",
      " 23  lat            30155 non-null  float64\n",
      " 24  long           30155 non-null  float64\n",
      "dtypes: float64(5), int64(10), object(10)\n",
      "memory usage: 5.8+ MB\n"
     ]
    }
   ],
   "source": [
    "# Checkout all data columns & spot Null values\n",
    "\n",
    "data.info()"
   ]
  },
  {
   "cell_type": "markdown",
   "metadata": {},
   "source": [
    "## Identifying Features of Interest to Answer Current Questions"
   ]
  },
  {
   "cell_type": "markdown",
   "metadata": {},
   "source": [
    "<font color = green><b><u> Rubric: Data Understanding pt2 </u></b>\n",
    "    \n",
    "2. descriptive statistics for all features used in the analysis\n",
    "3. Justify the inclusion of features based on their properties and relevance for the project </font>"
   ]
  },
  {
   "cell_type": "markdown",
   "metadata": {},
   "source": [
    "Features of Interest for each question:\n",
    "<br>\n",
    "<font color = red> Include here </font>"
   ]
  },
  {
   "cell_type": "markdown",
   "metadata": {},
   "source": [
    "### Columns to Exclude"
   ]
  },
  {
   "cell_type": "markdown",
   "metadata": {},
   "source": [
    "* First, we excluded variables that a home remodeling company *could not change* -- not useful information for our client\n",
    "* Second, we excluded the \"Condition\" variable\n",
    "    * King County Definition: \"Condition is relative to age and grade\"\n",
    "    * Would repeat the effect of one of our key variables (grade)\n",
    "    * Since grade refers to \"construction build and quality,\" it is more relevant to our client\n",
    "* Third, we excluded Heat Source & Sewer System variables because they are outside of the scope of the services Home Remedies can offer. Home Remedies generally refers clients who are interested in such projects to external Energy Consultants or Plumbers.\n",
    "\n",
    "<font color = blue> <b> Move to Conclusion Section: </b>\n",
    "    <br>  \n",
    "    * Some of these variables could account for price valuation (such as location) <br>  \n",
    "    * In future analyses, we could improve our models by including some of these as control variables </font>"
   ]
  },
  {
   "cell_type": "code",
   "execution_count": 4,
   "metadata": {},
   "outputs": [],
   "source": [
    "# Dropping columns not related to current questions/analyses\n",
    "\n",
    "df = data.drop(['id', 'date', 'view', 'waterfront', 'greenbelt', 'nuisance', \n",
    "                'condition', 'yr_built','yr_renovated', 'heat_source', 'sewer_system','address', 'lat', 'long'], axis=1)"
   ]
  },
  {
   "cell_type": "code",
   "execution_count": 5,
   "metadata": {},
   "outputs": [
    {
     "data": {
      "text/plain": [
       "Index(['price', 'bedrooms', 'bathrooms', 'sqft_living', 'sqft_lot', 'floors',\n",
       "       'grade', 'sqft_above', 'sqft_basement', 'sqft_garage', 'sqft_patio'],\n",
       "      dtype='object')"
      ]
     },
     "execution_count": 5,
     "metadata": {},
     "output_type": "execute_result"
    }
   ],
   "source": [
    "df.columns"
   ]
  },
  {
   "cell_type": "code",
   "execution_count": 6,
   "metadata": {},
   "outputs": [],
   "source": [
    "# Excluding Condition: the King County glossary notes that Condition rating is \"relative to age and grade\"\n",
    "    # Repetitive, since we are already looking at Grade\n",
    "    # Grade is more directly relevant to Home Renovating company, since it refers to \"construction build and quality of materials\"\n",
    "    "
   ]
  },
  {
   "cell_type": "markdown",
   "metadata": {},
   "source": [
    "### Calculating Features of Interest not yet present in dataset"
   ]
  },
  {
   "cell_type": "markdown",
   "metadata": {},
   "source": [
    "Yard Space: calculating based on [architect definitions](https://www.yourownarchitect.com/what-is-the-difference-between-floor-area-and-lot-area/)\n",
    "\n",
    "Yard Space = Lot Space - (Ground Floor Living Space + Patio Space + Garage Space)\n",
    "\n",
    "However, living space can be larger than lot space if there are multiple floors. We need to determine the space that only the ground floor takes up. Estimated using this formula:\n",
    "(Sqft_living / floors)"
   ]
  },
  {
   "cell_type": "code",
   "execution_count": 7,
   "metadata": {},
   "outputs": [],
   "source": [
    "df['sqft_yard'] = df['sqft_lot'] - (df['sqft_living']/df['floors'] + df['sqft_garage'] + df['sqft_patio'])"
   ]
  },
  {
   "cell_type": "markdown",
   "metadata": {},
   "source": [
    "Presence of Basement/Garage/Patio: binary variables (Y/N)\n",
    "\n",
    "* For the house additions analysis, we want to compare houses that have these features compared to houses that do not. \n",
    "For garage and patio, we need to derive this information from the sq_ft variable:"
   ]
  },
  {
   "cell_type": "code",
   "execution_count": 8,
   "metadata": {},
   "outputs": [],
   "source": [
    "# Changing basement, patio, and garage to binary\n",
    "# 1 (YES) the property has one or 0 (NO) the property does not have one\n",
    "\n",
    "df['has_basement'] = df['sqft_basement'].apply(lambda x: 1 if x > 0 else 0)\n",
    "df['has_garage'] = df['sqft_garage'].apply(lambda x: 1 if x > 0 else 0)\n",
    "df['has_patio'] = df['sqft_patio'].apply(lambda x: 1 if x > 0 else 0)"
   ]
  },
  {
   "cell_type": "code",
   "execution_count": 9,
   "metadata": {},
   "outputs": [
    {
     "data": {
      "text/plain": [
       "Index(['price', 'bedrooms', 'bathrooms', 'sqft_living', 'sqft_lot', 'floors',\n",
       "       'grade', 'sqft_above', 'sqft_basement', 'sqft_garage', 'sqft_patio',\n",
       "       'sqft_yard', 'has_basement', 'has_garage', 'has_patio'],\n",
       "      dtype='object')"
      ]
     },
     "execution_count": 9,
     "metadata": {},
     "output_type": "execute_result"
    }
   ],
   "source": [
    "df.columns"
   ]
  },
  {
   "cell_type": "markdown",
   "metadata": {},
   "source": [
    "## Cleaning Variables"
   ]
  },
  {
   "cell_type": "code",
   "execution_count": 10,
   "metadata": {},
   "outputs": [],
   "source": [
    "#For graph visibility, making Grade into a new, numeric-only variable (grade_num)\n",
    "\n",
    "orig_grade_val = list(df['grade'].value_counts().index)\n",
    "orig_grade_val\n",
    "new_grade_val = [7, 8, 9, 6, 10, 11, 5, 12, 4, 13, 3, 1, 2]\n",
    "\n",
    "df['grade_num'] = df['grade'].replace(orig_grade_val, new_grade_val)"
   ]
  },
  {
   "cell_type": "code",
   "execution_count": 11,
   "metadata": {},
   "outputs": [
    {
     "data": {
      "text/html": [
       "<div>\n",
       "<style scoped>\n",
       "    .dataframe tbody tr th:only-of-type {\n",
       "        vertical-align: middle;\n",
       "    }\n",
       "\n",
       "    .dataframe tbody tr th {\n",
       "        vertical-align: top;\n",
       "    }\n",
       "\n",
       "    .dataframe thead th {\n",
       "        text-align: right;\n",
       "    }\n",
       "</style>\n",
       "<table border=\"1\" class=\"dataframe\">\n",
       "  <thead>\n",
       "    <tr style=\"text-align: right;\">\n",
       "      <th></th>\n",
       "      <th>price</th>\n",
       "      <th>bedrooms</th>\n",
       "      <th>bathrooms</th>\n",
       "      <th>sqft_living</th>\n",
       "      <th>sqft_lot</th>\n",
       "      <th>floors</th>\n",
       "      <th>grade</th>\n",
       "      <th>sqft_above</th>\n",
       "      <th>sqft_basement</th>\n",
       "      <th>sqft_garage</th>\n",
       "      <th>sqft_patio</th>\n",
       "      <th>sqft_yard</th>\n",
       "      <th>has_basement</th>\n",
       "      <th>has_garage</th>\n",
       "      <th>has_patio</th>\n",
       "    </tr>\n",
       "  </thead>\n",
       "  <tbody>\n",
       "    <tr>\n",
       "      <th>0</th>\n",
       "      <td>675000.0</td>\n",
       "      <td>4</td>\n",
       "      <td>1.0</td>\n",
       "      <td>1180</td>\n",
       "      <td>7140</td>\n",
       "      <td>1.0</td>\n",
       "      <td>7</td>\n",
       "      <td>1180</td>\n",
       "      <td>0</td>\n",
       "      <td>0</td>\n",
       "      <td>40</td>\n",
       "      <td>5920.000000</td>\n",
       "      <td>0</td>\n",
       "      <td>0</td>\n",
       "      <td>1</td>\n",
       "    </tr>\n",
       "    <tr>\n",
       "      <th>1</th>\n",
       "      <td>920000.0</td>\n",
       "      <td>5</td>\n",
       "      <td>2.5</td>\n",
       "      <td>2770</td>\n",
       "      <td>6703</td>\n",
       "      <td>1.0</td>\n",
       "      <td>7</td>\n",
       "      <td>1570</td>\n",
       "      <td>1570</td>\n",
       "      <td>0</td>\n",
       "      <td>240</td>\n",
       "      <td>3693.000000</td>\n",
       "      <td>1</td>\n",
       "      <td>0</td>\n",
       "      <td>1</td>\n",
       "    </tr>\n",
       "    <tr>\n",
       "      <th>2</th>\n",
       "      <td>311000.0</td>\n",
       "      <td>6</td>\n",
       "      <td>2.0</td>\n",
       "      <td>2880</td>\n",
       "      <td>6156</td>\n",
       "      <td>1.0</td>\n",
       "      <td>7</td>\n",
       "      <td>1580</td>\n",
       "      <td>1580</td>\n",
       "      <td>0</td>\n",
       "      <td>0</td>\n",
       "      <td>3276.000000</td>\n",
       "      <td>1</td>\n",
       "      <td>0</td>\n",
       "      <td>0</td>\n",
       "    </tr>\n",
       "    <tr>\n",
       "      <th>3</th>\n",
       "      <td>775000.0</td>\n",
       "      <td>3</td>\n",
       "      <td>3.0</td>\n",
       "      <td>2160</td>\n",
       "      <td>1400</td>\n",
       "      <td>2.0</td>\n",
       "      <td>9</td>\n",
       "      <td>1090</td>\n",
       "      <td>1070</td>\n",
       "      <td>200</td>\n",
       "      <td>270</td>\n",
       "      <td>-150.000000</td>\n",
       "      <td>1</td>\n",
       "      <td>1</td>\n",
       "      <td>1</td>\n",
       "    </tr>\n",
       "    <tr>\n",
       "      <th>4</th>\n",
       "      <td>592500.0</td>\n",
       "      <td>2</td>\n",
       "      <td>2.0</td>\n",
       "      <td>1120</td>\n",
       "      <td>758</td>\n",
       "      <td>2.0</td>\n",
       "      <td>7</td>\n",
       "      <td>1120</td>\n",
       "      <td>550</td>\n",
       "      <td>550</td>\n",
       "      <td>30</td>\n",
       "      <td>-382.000000</td>\n",
       "      <td>1</td>\n",
       "      <td>1</td>\n",
       "      <td>1</td>\n",
       "    </tr>\n",
       "    <tr>\n",
       "      <th>...</th>\n",
       "      <td>...</td>\n",
       "      <td>...</td>\n",
       "      <td>...</td>\n",
       "      <td>...</td>\n",
       "      <td>...</td>\n",
       "      <td>...</td>\n",
       "      <td>...</td>\n",
       "      <td>...</td>\n",
       "      <td>...</td>\n",
       "      <td>...</td>\n",
       "      <td>...</td>\n",
       "      <td>...</td>\n",
       "      <td>...</td>\n",
       "      <td>...</td>\n",
       "      <td>...</td>\n",
       "    </tr>\n",
       "    <tr>\n",
       "      <th>30150</th>\n",
       "      <td>1555000.0</td>\n",
       "      <td>5</td>\n",
       "      <td>2.0</td>\n",
       "      <td>1910</td>\n",
       "      <td>4000</td>\n",
       "      <td>1.5</td>\n",
       "      <td>8</td>\n",
       "      <td>1600</td>\n",
       "      <td>1130</td>\n",
       "      <td>0</td>\n",
       "      <td>210</td>\n",
       "      <td>2516.666667</td>\n",
       "      <td>1</td>\n",
       "      <td>0</td>\n",
       "      <td>1</td>\n",
       "    </tr>\n",
       "    <tr>\n",
       "      <th>30151</th>\n",
       "      <td>1313000.0</td>\n",
       "      <td>3</td>\n",
       "      <td>2.0</td>\n",
       "      <td>2020</td>\n",
       "      <td>5800</td>\n",
       "      <td>2.0</td>\n",
       "      <td>7</td>\n",
       "      <td>2020</td>\n",
       "      <td>0</td>\n",
       "      <td>0</td>\n",
       "      <td>520</td>\n",
       "      <td>4270.000000</td>\n",
       "      <td>0</td>\n",
       "      <td>0</td>\n",
       "      <td>1</td>\n",
       "    </tr>\n",
       "    <tr>\n",
       "      <th>30152</th>\n",
       "      <td>800000.0</td>\n",
       "      <td>3</td>\n",
       "      <td>2.0</td>\n",
       "      <td>1620</td>\n",
       "      <td>3600</td>\n",
       "      <td>1.0</td>\n",
       "      <td>7</td>\n",
       "      <td>940</td>\n",
       "      <td>920</td>\n",
       "      <td>240</td>\n",
       "      <td>110</td>\n",
       "      <td>1630.000000</td>\n",
       "      <td>1</td>\n",
       "      <td>1</td>\n",
       "      <td>1</td>\n",
       "    </tr>\n",
       "    <tr>\n",
       "      <th>30153</th>\n",
       "      <td>775000.0</td>\n",
       "      <td>3</td>\n",
       "      <td>2.5</td>\n",
       "      <td>2570</td>\n",
       "      <td>2889</td>\n",
       "      <td>2.0</td>\n",
       "      <td>8</td>\n",
       "      <td>1830</td>\n",
       "      <td>740</td>\n",
       "      <td>480</td>\n",
       "      <td>100</td>\n",
       "      <td>1024.000000</td>\n",
       "      <td>1</td>\n",
       "      <td>1</td>\n",
       "      <td>1</td>\n",
       "    </tr>\n",
       "    <tr>\n",
       "      <th>30154</th>\n",
       "      <td>500000.0</td>\n",
       "      <td>3</td>\n",
       "      <td>1.5</td>\n",
       "      <td>1200</td>\n",
       "      <td>11058</td>\n",
       "      <td>1.0</td>\n",
       "      <td>7</td>\n",
       "      <td>1200</td>\n",
       "      <td>0</td>\n",
       "      <td>420</td>\n",
       "      <td>0</td>\n",
       "      <td>9438.000000</td>\n",
       "      <td>0</td>\n",
       "      <td>1</td>\n",
       "      <td>0</td>\n",
       "    </tr>\n",
       "  </tbody>\n",
       "</table>\n",
       "<p>30155 rows × 15 columns</p>\n",
       "</div>"
      ],
      "text/plain": [
       "           price  bedrooms  bathrooms  sqft_living  sqft_lot  floors  grade  \\\n",
       "0       675000.0         4        1.0         1180      7140     1.0      7   \n",
       "1       920000.0         5        2.5         2770      6703     1.0      7   \n",
       "2       311000.0         6        2.0         2880      6156     1.0      7   \n",
       "3       775000.0         3        3.0         2160      1400     2.0      9   \n",
       "4       592500.0         2        2.0         1120       758     2.0      7   \n",
       "...          ...       ...        ...          ...       ...     ...    ...   \n",
       "30150  1555000.0         5        2.0         1910      4000     1.5      8   \n",
       "30151  1313000.0         3        2.0         2020      5800     2.0      7   \n",
       "30152   800000.0         3        2.0         1620      3600     1.0      7   \n",
       "30153   775000.0         3        2.5         2570      2889     2.0      8   \n",
       "30154   500000.0         3        1.5         1200     11058     1.0      7   \n",
       "\n",
       "       sqft_above  sqft_basement  sqft_garage  sqft_patio    sqft_yard  \\\n",
       "0            1180              0            0          40  5920.000000   \n",
       "1            1570           1570            0         240  3693.000000   \n",
       "2            1580           1580            0           0  3276.000000   \n",
       "3            1090           1070          200         270  -150.000000   \n",
       "4            1120            550          550          30  -382.000000   \n",
       "...           ...            ...          ...         ...          ...   \n",
       "30150        1600           1130            0         210  2516.666667   \n",
       "30151        2020              0            0         520  4270.000000   \n",
       "30152         940            920          240         110  1630.000000   \n",
       "30153        1830            740          480         100  1024.000000   \n",
       "30154        1200              0          420           0  9438.000000   \n",
       "\n",
       "       has_basement  has_garage  has_patio  \n",
       "0                 0           0          1  \n",
       "1                 1           0          1  \n",
       "2                 1           0          0  \n",
       "3                 1           1          1  \n",
       "4                 1           1          1  \n",
       "...             ...         ...        ...  \n",
       "30150             1           0          1  \n",
       "30151             0           0          1  \n",
       "30152             1           1          1  \n",
       "30153             1           1          1  \n",
       "30154             0           1          0  \n",
       "\n",
       "[30155 rows x 15 columns]"
      ]
     },
     "execution_count": 11,
     "metadata": {},
     "output_type": "execute_result"
    }
   ],
   "source": [
    "# Might be helpful to have a grade_dict matching num to definition\n",
    "\n",
    "grade_dict = {new_grade_val[i]: orig_grade_val[i].strip('0123456789.- ') for i in range(len(new_grade_val))}\n",
    "\n",
    "grade_dict\n",
    "df['grade'] = df['grade_num']\n",
    "\n",
    "df.drop('grade_num',axis=1)"
   ]
  },
  {
   "cell_type": "markdown",
   "metadata": {},
   "source": [
    "## Descriptive Statistics on Variables"
   ]
  },
  {
   "cell_type": "code",
   "execution_count": null,
   "metadata": {},
   "outputs": [],
   "source": [
    "df.desc"
   ]
  },
  {
   "cell_type": "markdown",
   "metadata": {},
   "source": [
    "### Outcome: Price"
   ]
  },
  {
   "cell_type": "code",
   "execution_count": 12,
   "metadata": {},
   "outputs": [
    {
     "name": "stdout",
     "output_type": "stream",
     "text": [
      "count    3.015500e+04\n",
      "mean     1.108536e+06\n",
      "std      8.963857e+05\n",
      "min      2.736000e+04\n",
      "25%      6.480000e+05\n",
      "50%      8.600000e+05\n",
      "75%      1.300000e+06\n",
      "max      3.075000e+07\n",
      "Name: price, dtype: float64\n"
     ]
    },
    {
     "data": {
      "image/png": "[encoded data removed]",
      "text/plain": [
       "<Figure size 432x288 with 1 Axes>"
      ]
     },
     "metadata": {
      "needs_background": "light"
     },
     "output_type": "display_data"
    }
   ],
   "source": [
    "print(df['price'].describe())\n",
    "df['price'].hist();"
   ]
  },
  {
   "cell_type": "code",
   "execution_count": 13,
   "metadata": {},
   "outputs": [],
   "source": [
    "# Data is highly skewed right (large positive outliers)\n",
    "# Need to remove outliers"
   ]
  },
  {
   "cell_type": "markdown",
   "metadata": {},
   "source": [
    "### Predictors: Categorical Variables"
   ]
  },
  {
   "cell_type": "code",
   "execution_count": 14,
   "metadata": {},
   "outputs": [
    {
     "data": {
      "text/plain": [
       "7     11697\n",
       "8      9410\n",
       "9      3806\n",
       "6      2858\n",
       "10     1371\n",
       "11      406\n",
       "5       393\n",
       "12      122\n",
       "4        51\n",
       "13       24\n",
       "3        13\n",
       "2         2\n",
       "1         2\n",
       "Name: grade, dtype: int64"
      ]
     },
     "execution_count": 14,
     "metadata": {},
     "output_type": "execute_result"
    }
   ],
   "source": [
    "df['grade'].value_counts()"
   ]
  },
  {
   "cell_type": "code",
   "execution_count": 15,
   "metadata": {},
   "outputs": [
    {
     "data": {
      "image/png": "[encoded data removed]",
      "text/plain": [
       "<Figure size 1152x576 with 4 Axes>"
      ]
     },
     "metadata": {
      "needs_background": "light"
     },
     "output_type": "display_data"
    }
   ],
   "source": [
    "cat = ['bedrooms', 'bathrooms', 'floors', 'grade']\n",
    "df_cat = df[cat] \n",
    "\n",
    "fig, ax = plt.subplots(2, 2, figsize=(16,8))\n",
    "\n",
    "for i, col in enumerate(df_cat.columns):\n",
    "    x = i%2\n",
    "    y = i//2\n",
    "    sns.countplot(x=col, data=df_cat, ax=ax[x][y])"
   ]
  },
  {
   "cell_type": "code",
   "execution_count": 16,
   "metadata": {},
   "outputs": [],
   "source": [
    "# Significant Outliers in Bedrooms, Bathrooms, Grade & Floors -- need to exclude or combine categories"
   ]
  },
  {
   "cell_type": "markdown",
   "metadata": {},
   "source": [
    "### Predictors: Binary Variables"
   ]
  },
  {
   "cell_type": "markdown",
   "metadata": {},
   "source": [
    "### Predictors: Continuous Variables"
   ]
  },
  {
   "cell_type": "code",
   "execution_count": 17,
   "metadata": {},
   "outputs": [
    {
     "data": {
      "image/png": "[encoded data removed]",
      "text/plain": [
       "<Figure size 1152x576 with 9 Axes>"
      ]
     },
     "metadata": {
      "needs_background": "light"
     },
     "output_type": "display_data"
    }
   ],
   "source": [
    "cont = ['sqft_living', 'sqft_lot', 'sqft_above', 'sqft_basement', 'sqft_garage', 'sqft_patio','sqft_yard']\n",
    "\n",
    "plt\n",
    "df[cont].hist(figsize=(16,8));"
   ]
  },
  {
   "cell_type": "code",
   "execution_count": 18,
   "metadata": {},
   "outputs": [],
   "source": [
    "# All of these variables are heavily skewed left\n",
    "# Might be beneficial to transform "
   ]
  },
  {
   "cell_type": "markdown",
   "metadata": {
    "heading_collapsed": true
   },
   "source": [
    "## Defining & Excluding Outliers"
   ]
  },
  {
   "cell_type": "markdown",
   "metadata": {
    "hidden": true
   },
   "source": [
    "* We want to look at typical qualities of houses: only cases relevant to our client\n",
    "    * Data indicates many outliers: \n",
    "        * Rare to encounter these clients with houses fitting these cases\n",
    "        * Likely to have different goals/priorities than target audience"
   ]
  },
  {
   "cell_type": "markdown",
   "metadata": {
    "hidden": true
   },
   "source": [
    "### Categorical Ordinal Variables: Dropping Outliers"
   ]
  },
  {
   "cell_type": "markdown",
   "metadata": {
    "hidden": true
   },
   "source": [
    "* For all categorical ordinal variables (Bathroom, Bedroom, Floors, Grade): we excluded any group with n < 100."
   ]
  },
  {
   "cell_type": "code",
   "execution_count": 19,
   "metadata": {
    "hidden": true
   },
   "outputs": [],
   "source": [
    "df['bedrooms'].value_counts()\n",
    "\n",
    "df_clean = df[(df['bedrooms'] != 0) & (df['bedrooms'] < 7)]"
   ]
  },
  {
   "cell_type": "code",
   "execution_count": 20,
   "metadata": {
    "hidden": true
   },
   "outputs": [
    {
     "data": {
      "text/plain": [
       "2.5    8475\n",
       "2.0    7349\n",
       "1.0    4576\n",
       "3.0    4117\n",
       "3.5    2266\n",
       "1.5    1808\n",
       "4.0     645\n",
       "4.5     533\n",
       "5.0     145\n",
       "5.5     104\n",
       "Name: bathrooms, dtype: int64"
      ]
     },
     "execution_count": 20,
     "metadata": {},
     "output_type": "execute_result"
    }
   ],
   "source": [
    "df['bathrooms'].value_counts()\n",
    "\n",
    "df = df[(df['bathrooms'] >= 1) & (df['bathrooms'] < 6)]\n",
    "\n",
    "df['bathrooms'].value_counts()"
   ]
  },
  {
   "cell_type": "code",
   "execution_count": 21,
   "metadata": {
    "hidden": true
   },
   "outputs": [],
   "source": [
    "df['floors'].value_counts()\n",
    "\n",
    "df_clean = df[df['floors'] <= 3]\n",
    "\n"
   ]
  },
  {
   "cell_type": "code",
   "execution_count": 22,
   "metadata": {
    "hidden": true
   },
   "outputs": [],
   "source": [
    "df['floors'].value_counts()\n",
    "\n",
    "df_clean = df[df['floors'] <= 3]"
   ]
  },
  {
   "cell_type": "code",
   "execution_count": 23,
   "metadata": {
    "hidden": true
   },
   "outputs": [
    {
     "data": {
      "text/plain": [
       "5       391\n",
       "6      2857\n",
       "7     11673\n",
       "8      9391\n",
       "9      3795\n",
       "10     1355\n",
       "11      384\n",
       "Name: grade, dtype: int64"
      ]
     },
     "execution_count": 23,
     "metadata": {},
     "output_type": "execute_result"
    }
   ],
   "source": [
    "df['grade'].value_counts() \n",
    "# Based on n < 100 rule, can exclude 1, 2, 3, 4, 12, 13\n",
    "\n",
    "df = df[(df['grade'] > 4) & (df['grade'] < 12)]\n",
    "\n",
    "df.grade.value_counts().sort_index()\n"
   ]
  },
  {
   "cell_type": "markdown",
   "metadata": {
    "hidden": true
   },
   "source": [
    "#### Condensing grade into 4 categories"
   ]
  },
  {
   "cell_type": "markdown",
   "metadata": {
    "hidden": true
   },
   "source": [
    "After reviewing the King County definitions, we decided to combine similar grades into 4 categories, based on the similar language that each definition used. For the categories labeled as \"High Quality,\" we used the label \"Exceptional\"\n",
    "\n",
    " * 5 & 6 = Below Average\n",
    " * 7 = Average\n",
    " * 8 & 9 = Above Average\n",
    " * 10 & 11 = Exceptional Quality\n",
    " "
   ]
  },
  {
   "cell_type": "code",
   "execution_count": 40,
   "metadata": {
    "hidden": true
   },
   "outputs": [
    {
     "name": "stdout",
     "output_type": "stream",
     "text": [
      "<class 'pandas.core.frame.DataFrame'>\n",
      "Int64Index: 29846 entries, 0 to 30154\n",
      "Data columns (total 16 columns):\n",
      " #   Column         Non-Null Count  Dtype   \n",
      "---  ------         --------------  -----   \n",
      " 0   price          29846 non-null  float64 \n",
      " 1   bedrooms       29846 non-null  int64   \n",
      " 2   bathrooms      29846 non-null  float64 \n",
      " 3   sqft_living    29846 non-null  int64   \n",
      " 4   sqft_lot       29846 non-null  int64   \n",
      " 5   floors         29846 non-null  float64 \n",
      " 6   grade          29846 non-null  category\n",
      " 7   sqft_above     29846 non-null  int64   \n",
      " 8   sqft_basement  29846 non-null  int64   \n",
      " 9   sqft_garage    29846 non-null  int64   \n",
      " 10  sqft_patio     29846 non-null  int64   \n",
      " 11  sqft_yard      29846 non-null  float64 \n",
      " 12  has_basement   29846 non-null  int64   \n",
      " 13  has_garage     29846 non-null  int64   \n",
      " 14  has_patio      29846 non-null  int64   \n",
      " 15  grade_num      29846 non-null  int64   \n",
      "dtypes: category(1), float64(4), int64(11)\n",
      "memory usage: 3.7 MB\n"
     ]
    }
   ],
   "source": [
    "grade_old = [5,6,7,8,9,10,11]\n",
    "grade_new = ['Below_Average', 'Below_Average', 'Average', 'Above_Average', 'Above_Average', 'Exceptional', 'Exceptional']\n",
    "\n",
    "df['grade'] = df['grade'].replace(grade_old, grade_new)\n",
    "\n",
    "df['grade'].value_counts()\n",
    "\n",
    "df['grade']=pd.Categorical(df['grade'], ordered=True, categories=['Below_Average', 'Average', 'Above_Average','Exceptional'])\n",
    "\n",
    "df.info()\n"
   ]
  },
  {
   "cell_type": "markdown",
   "metadata": {
    "hidden": true
   },
   "source": [
    "### Continous Variables: Dropping Outliers"
   ]
  },
  {
   "cell_type": "markdown",
   "metadata": {
    "hidden": true
   },
   "source": [
    "* To remove outliers from \"price\" and \"sqft_living\", we excluded the bottom & top 2.5% of values."
   ]
  },
  {
   "cell_type": "code",
   "execution_count": 44,
   "metadata": {
    "hidden": true
   },
   "outputs": [
    {
     "name": "stdout",
     "output_type": "stream",
     "text": [
      "<class 'pandas.core.frame.DataFrame'>\n",
      "Int64Index: 29541 entries, 0 to 30154\n",
      "Data columns (total 16 columns):\n",
      " #   Column         Non-Null Count  Dtype   \n",
      "---  ------         --------------  -----   \n",
      " 0   price          29541 non-null  float64 \n",
      " 1   bedrooms       29541 non-null  int64   \n",
      " 2   bathrooms      29541 non-null  float64 \n",
      " 3   sqft_living    29541 non-null  int64   \n",
      " 4   sqft_lot       29541 non-null  int64   \n",
      " 5   floors         29541 non-null  float64 \n",
      " 6   grade          29541 non-null  category\n",
      " 7   sqft_above     29541 non-null  int64   \n",
      " 8   sqft_basement  29541 non-null  int64   \n",
      " 9   sqft_garage    29541 non-null  int64   \n",
      " 10  sqft_patio     29541 non-null  int64   \n",
      " 11  sqft_yard      29541 non-null  float64 \n",
      " 12  has_basement   29541 non-null  int64   \n",
      " 13  has_garage     29541 non-null  int64   \n",
      " 14  has_patio      29541 non-null  int64   \n",
      " 15  grade_num      29541 non-null  int64   \n",
      "dtypes: category(1), float64(4), int64(11)\n",
      "memory usage: 3.6 MB\n"
     ]
    }
   ],
   "source": [
    "outliers = ['sqft_living','price']\n",
    "\n",
    "for col in outliers:\n",
    "    df = df[(df[col] > np.percentile(df[col], .25)) & (df[col] < np.percentile(df[col], 99.75))]"
   ]
  },
  {
   "cell_type": "code",
   "execution_count": 45,
   "metadata": {
    "hidden": true
   },
   "outputs": [
    {
     "name": "stdout",
     "output_type": "stream",
     "text": [
      "<class 'pandas.core.frame.DataFrame'>\n",
      "Int64Index: 29541 entries, 0 to 30154\n",
      "Data columns (total 16 columns):\n",
      " #   Column         Non-Null Count  Dtype   \n",
      "---  ------         --------------  -----   \n",
      " 0   price          29541 non-null  float64 \n",
      " 1   bedrooms       29541 non-null  int64   \n",
      " 2   bathrooms      29541 non-null  float64 \n",
      " 3   sqft_living    29541 non-null  int64   \n",
      " 4   sqft_lot       29541 non-null  int64   \n",
      " 5   floors         29541 non-null  float64 \n",
      " 6   grade          29541 non-null  category\n",
      " 7   sqft_above     29541 non-null  int64   \n",
      " 8   sqft_basement  29541 non-null  int64   \n",
      " 9   sqft_garage    29541 non-null  int64   \n",
      " 10  sqft_patio     29541 non-null  int64   \n",
      " 11  sqft_yard      29541 non-null  float64 \n",
      " 12  has_basement   29541 non-null  int64   \n",
      " 13  has_garage     29541 non-null  int64   \n",
      " 14  has_patio      29541 non-null  int64   \n",
      " 15  grade_num      29541 non-null  int64   \n",
      "dtypes: category(1), float64(4), int64(11)\n",
      "memory usage: 3.6 MB\n"
     ]
    }
   ],
   "source": [
    "df.info()"
   ]
  },
  {
   "cell_type": "code",
   "execution_count": 47,
   "metadata": {
    "hidden": true
   },
   "outputs": [
    {
     "name": "stdout",
     "output_type": "stream",
     "text": [
      "Removed 614 datapoints, which is  2.04% of the data\n"
     ]
    }
   ],
   "source": [
    "print(f\"Removed {30155 - 29541} datapoints, which is {(30155-29541)/30155*100: .2f}% of the data\")"
   ]
  },
  {
   "cell_type": "markdown",
   "metadata": {
    "hidden": true
   },
   "source": [
    "We are still well below our rule of thumb of retaining 90% of our datapoints"
   ]
  },
  {
   "cell_type": "markdown",
   "metadata": {
    "hidden": true
   },
   "source": [
    "* For the other sqft_ variables, the above method of removing outliers would remove more than 10% of our data. \n",
    "* As a result, we are going to leave the outliers in for now and see how they look after data transformation."
   ]
  },
  {
   "cell_type": "markdown",
   "metadata": {
    "heading_collapsed": true
   },
   "source": [
    "# Modeling"
   ]
  },
  {
   "cell_type": "markdown",
   "metadata": {
    "hidden": true
   },
   "source": [
    "Runs and interprets a simple, baseline model for comparison\n",
    "\n",
    "Introduces new models that improve on prior models and interprets their results\n",
    "\n",
    "Explicitly justifies model changes based on the results of prior models and the problem context\n",
    "\n",
    "Explicitly describes any improvements found from running new models"
   ]
  },
  {
   "cell_type": "markdown",
   "metadata": {},
   "source": [
    "# Results"
   ]
  },
  {
   "cell_type": "markdown",
   "metadata": {},
   "source": [
    "Explicitly identify the features and interpret their coefficients in plain language\n",
    "\n",
    "Explain the implications of results for the real-world problem the project aims to address\n",
    "\n",
    "Identify specific actions that stakeholders should take to leverage these results\n"
   ]
  },
  {
   "cell_type": "code",
   "execution_count": null,
   "metadata": {},
   "outputs": [],
   "source": []
  }
 ],
 "metadata": {
  "kernelspec": {
   "display_name": "Python (learn-env)",
   "language": "python",
   "name": "learn-env"
  },
  "language_info": {
   "codemirror_mode": {
    "name": "ipython",
    "version": 3
   },
   "file_extension": ".py",
   "mimetype": "text/x-python",
   "name": "python",
   "nbconvert_exporter": "python",
   "pygments_lexer": "ipython3",
   "version": "3.8.5"
  },
  "toc": {
   "base_numbering": 1,
   "nav_menu": {},
   "number_sections": true,
   "sideBar": true,
   "skip_h1_title": false,
   "title_cell": "Table of Contents",
   "title_sidebar": "Contents",
   "toc_cell": false,
   "toc_position": {},
   "toc_section_display": true,
   "toc_window_display": false
  }
 },
 "nbformat": 4,
 "nbformat_minor": 4
}
