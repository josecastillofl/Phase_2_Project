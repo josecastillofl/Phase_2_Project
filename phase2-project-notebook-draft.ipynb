{
 "cells": [
  {
   "cell_type": "markdown",
   "metadata": {},
   "source": [
    " <font size = +3.5><b><u><center> Phase 2 Project Notebook </center></u></b></font>"
   ]
  },
  {
   "cell_type": "markdown",
   "metadata": {},
   "source": [
    "# Business Understanding"
   ]
  },
  {
   "cell_type": "markdown",
   "metadata": {},
   "source": [
    " * As a Construction Consulting firm, Royal Advisory helps new home renovation businesses establish themselves in the Seattle market.\n",
    " <br>  \n",
    "  \n",
    "  * With the housing market is cooling rapidly in Seattle, homeowners are increasingly opting to invest in remodeling their current home instead of buying new properties. Given this [increase in demand](https://www.king5.com/article/money/markets/real-estate/seattle-home-renovation-housing-cooldown/281-71cb28a8-1bd5-4187-955f-debad072fe53), now is the perfect time for a home renovation company to move into the Seattle area. \n",
    "  <br>  \n",
    "  \n",
    "  * A new home renovation company, Home Remedies, hired us to recommend the best services to offer to clients looking to increase the sale value of their homes. \n",
    " <br>"
   ]
  },
  {
   "cell_type": "markdown",
   "metadata": {},
   "source": [
    "## Types of Remodeling Projects\n",
    "\n",
    " * First, based on [industry definitions](https://www.homeadvisor.com/cost/additions-and-remodels/), we identifed three major components of home remodeling projects:\n",
    "     1. **Home Renovations:** Updating the quality of the house's building material\n",
    "     2. **Home Remodeling:** Increasing the size of your home, either through extensions or additions:\n",
    "         2a. **Home Extensions:** Increasing the size of existing section of the house\n",
    "         2b. **Home Additions:** Adding a new section to your home\n",
    "     \n",
    " * We were then guided by these business questions:"
   ]
  },
  {
   "cell_type": "markdown",
   "metadata": {},
   "source": [
    "## Business Questions: \n",
    "\n",
    "1. For all clients interested in increasing the area of their house (either through *home extensions* or *home additions*, where are the best areas to add square footage?\n",
    "    - Which areas of the house is increased area associated with increased sale value?\n",
    "    - Our model included these common home spaces: Above-Ground Living Space (e.g. rooms, kitchen, hallways), Basement, Garage, Patio, Yard\n",
    "\n",
    "<br>  \n",
    "2. How much does build quality contribute to the sale price of a house? Should clients add build quality renovation projects to their remodeling projects to increase their house's value?\n",
    "\n",
    "<br>  \n",
    "<br>  \n",
    "\n",
    "3. For clients specifically interested in *home additions*, what are the best structures to add to increase the sale value of their house?\n",
    "    - What types of home additions contribute to a higher sale price?\n",
    "\n",
    "***"
   ]
  },
  {
   "cell_type": "markdown",
   "metadata": {},
   "source": [
    "## Data Source & Relevance to Business Case"
   ]
  },
  {
   "cell_type": "markdown",
   "metadata": {},
   "source": [
    "<font color = green><b><u> Rubric: Data Understanding pt 1 </u></b>\n",
    "    \n",
    "1. Describe the data sources and explain why the data are suitable for the project\n",
    "2. Present the size of the dataset </font>"
   ]
  },
  {
   "cell_type": "markdown",
   "metadata": {},
   "source": [
    "* Data from King County: all house sale in 2021 (n = 30155)\n",
    "\n",
    "* Current data allows us to see what *features of a house* contributed to house sale price in 2021\n",
    "   * From this, we can infer what types of house changes could increase future house sale price"
   ]
  },
  {
   "cell_type": "markdown",
   "metadata": {},
   "source": [
    "# Data Preparation"
   ]
  },
  {
   "cell_type": "markdown",
   "metadata": {},
   "source": [
    "<font color = green><b><u> Rubric: Data Preparation </u></b></font>\n",
    "\n",
    "1. Instructions or code needed to get and prepare the raw data for analysis\n",
    "2. Code comments and text to explain what your data preparation code does\n",
    "3. Valid justifications for why the steps you took are appropriate for the problem you are solving"
   ]
  },
  {
   "cell_type": "markdown",
   "metadata": {
    "heading_collapsed": true
   },
   "source": [
    "## Import Packages & Data"
   ]
  },
  {
   "cell_type": "code",
   "execution_count": 3,
   "metadata": {
    "hidden": true
   },
   "outputs": [],
   "source": [
    "import pandas as pd\n",
    "import numpy as np\n",
    "import matplotlib.pyplot as plt\n",
    "import sklearn as sk\n",
    "import statsmodels.api as sm\n",
    "import seaborn as sns\n",
    "from scipy import stats\n",
    "\n",
    "%matplotlib inline"
   ]
  },
  {
   "cell_type": "code",
   "execution_count": 4,
   "metadata": {
    "hidden": true
   },
   "outputs": [],
   "source": [
    "# Collect entire data \n",
    "\n",
    "data = pd.read_csv('data/kc_house_data.csv')"
   ]
  },
  {
   "cell_type": "markdown",
   "metadata": {
    "heading_collapsed": true
   },
   "source": [
    "## Exploring Variables in Dataset"
   ]
  },
  {
   "cell_type": "code",
   "execution_count": null,
   "metadata": {
    "hidden": true
   },
   "outputs": [],
   "source": [
    "# Checkout all data columns & spot Null values\n",
    "\n",
    "data.info()"
   ]
  },
  {
   "cell_type": "markdown",
   "metadata": {},
   "source": [
    "## Identifying Features of Interest to Answer Current Questions"
   ]
  },
  {
   "cell_type": "markdown",
   "metadata": {},
   "source": [
    "<font color = green><b><u> Rubric: Data Understanding pt2 </u></b>\n",
    "    \n",
    "2. descriptive statistics for all features used in the analysis\n",
    "3. Justify the inclusion of features based on their properties and relevance for the project </font>"
   ]
  },
  {
   "cell_type": "markdown",
   "metadata": {},
   "source": [
    "Features of Interest for each question:"
   ]
  },
  {
   "cell_type": "markdown",
   "metadata": {},
   "source": [
    "Columns to Exclude:\n",
    "    * We excluded variables that a home remodeling company *could not change* -- not useful information for our client\n",
    "\n",
    "<font color = blue> <b> Move to Conclusion Section: </b>\n",
    "    <br>  \n",
    "    * Some of these variables could account for price valuation (such as location) <br>  \n",
    "    * In future analyses, we could improve our models by including some of these as control variables </font>"
   ]
  },
  {
   "cell_type": "code",
   "execution_count": null,
   "metadata": {},
   "outputs": [],
   "source": [
    "# Dropping columns not related to current questions/analyses\n",
    "\n",
    "df = data.drop(['id', 'date', 'view', 'waterfront', 'greenbelt', 'nuisance', 'yr_built','yr_renovated', 'address', 'lat', 'long'], axis=1)"
   ]
  },
  {
   "cell_type": "markdown",
   "metadata": {},
   "source": [
    "## Defining & Excluding Outliers"
   ]
  },
  {
   "cell_type": "markdown",
   "metadata": {},
   "source": [
    "* We want to look at typical qualities of houses: only cases relevant to our client\n",
    "    * Data indicates many outliers: \n",
    "        * Rare to encounter these clients with houses fitting these cases\n",
    "        * Likely to have different goals/priorities than target audience"
   ]
  },
  {
   "cell_type": "markdown",
   "metadata": {
    "heading_collapsed": true
   },
   "source": [
    "# Modeling"
   ]
  },
  {
   "cell_type": "markdown",
   "metadata": {
    "hidden": true
   },
   "source": [
    "Runs and interprets a simple, baseline model for comparison\n",
    "\n",
    "Introduces new models that improve on prior models and interprets their results\n",
    "\n",
    "Explicitly justifies model changes based on the results of prior models and the problem context\n",
    "\n",
    "Explicitly describes any improvements found from running new models"
   ]
  },
  {
   "cell_type": "markdown",
   "metadata": {
    "heading_collapsed": true
   },
   "source": [
    "# Results"
   ]
  },
  {
   "cell_type": "markdown",
   "metadata": {
    "hidden": true
   },
   "source": [
    "Explicitly identify the features and interpret their coefficients in plain language\n",
    "\n",
    "Explain the implications of results for the real-world problem the project aims to address\n",
    "\n",
    "Identify specific actions that stakeholders should take to leverage these results\n"
   ]
  },
  {
   "cell_type": "code",
   "execution_count": null,
   "metadata": {
    "hidden": true
   },
   "outputs": [],
   "source": []
  }
 ],
 "metadata": {
  "kernelspec": {
   "display_name": "Python (learn-env)",
   "language": "python",
   "name": "learn-env"
  },
  "language_info": {
   "codemirror_mode": {
    "name": "ipython",
    "version": 3
   },
   "file_extension": ".py",
   "mimetype": "text/x-python",
   "name": "python",
   "nbconvert_exporter": "python",
   "pygments_lexer": "ipython3",
   "version": "3.8.5"
  },
  "toc": {
   "base_numbering": 1,
   "nav_menu": {},
   "number_sections": true,
   "sideBar": true,
   "skip_h1_title": false,
   "title_cell": "Table of Contents",
   "title_sidebar": "Contents",
   "toc_cell": false,
   "toc_position": {},
   "toc_section_display": true,
   "toc_window_display": false
  }
 },
 "nbformat": 4,
 "nbformat_minor": 4
}
