{
 "cells": [
  {
   "cell_type": "markdown",
   "metadata": {},
   "source": [
    "<h1> Phase 2 Project </h1>"
   ]
  },
  {
   "cell_type": "code",
   "execution_count": 1,
   "metadata": {},
   "outputs": [],
   "source": [
    "import pandas as pd\n",
    "import numpy as np\n",
    "import matplotlib.pyplot as plt\n",
    "import sklearn as sk\n",
    "import statsmodels.api as sm\n",
    "import seaborn as sns\n",
    "from scipy import stats\n",
    "\n",
    "%matplotlib inline"
   ]
  },
  {
   "cell_type": "code",
   "execution_count": 2,
   "metadata": {},
   "outputs": [],
   "source": [
    "# Collect entire data \n",
    "\n",
    "data = pd.read_csv('data/kc_house_data.csv')"
   ]
  },
  {
   "cell_type": "markdown",
   "metadata": {},
   "source": [
    "# Initial Exploration"
   ]
  },
  {
   "cell_type": "code",
   "execution_count": 3,
   "metadata": {},
   "outputs": [
    {
     "name": "stdout",
     "output_type": "stream",
     "text": [
      "<class 'pandas.core.frame.DataFrame'>\n",
      "RangeIndex: 30155 entries, 0 to 30154\n",
      "Data columns (total 25 columns):\n",
      " #   Column         Non-Null Count  Dtype  \n",
      "---  ------         --------------  -----  \n",
      " 0   id             30155 non-null  int64  \n",
      " 1   date           30155 non-null  object \n",
      " 2   price          30155 non-null  float64\n",
      " 3   bedrooms       30155 non-null  int64  \n",
      " 4   bathrooms      30155 non-null  float64\n",
      " 5   sqft_living    30155 non-null  int64  \n",
      " 6   sqft_lot       30155 non-null  int64  \n",
      " 7   floors         30155 non-null  float64\n",
      " 8   waterfront     30155 non-null  object \n",
      " 9   greenbelt      30155 non-null  object \n",
      " 10  nuisance       30155 non-null  object \n",
      " 11  view           30155 non-null  object \n",
      " 12  condition      30155 non-null  object \n",
      " 13  grade          30155 non-null  object \n",
      " 14  heat_source    30123 non-null  object \n",
      " 15  sewer_system   30141 non-null  object \n",
      " 16  sqft_above     30155 non-null  int64  \n",
      " 17  sqft_basement  30155 non-null  int64  \n",
      " 18  sqft_garage    30155 non-null  int64  \n",
      " 19  sqft_patio     30155 non-null  int64  \n",
      " 20  yr_built       30155 non-null  int64  \n",
      " 21  yr_renovated   30155 non-null  int64  \n",
      " 22  address        30155 non-null  object \n",
      " 23  lat            30155 non-null  float64\n",
      " 24  long           30155 non-null  float64\n",
      "dtypes: float64(5), int64(10), object(10)\n",
      "memory usage: 5.8+ MB\n"
     ]
    }
   ],
   "source": [
    "# Checkout all data columns & spot Null values\n",
    "\n",
    "data.info()"
   ]
  },
  {
   "cell_type": "markdown",
   "metadata": {},
   "source": [
    "# Data Cleaning"
   ]
  },
  {
   "cell_type": "code",
   "execution_count": 4,
   "metadata": {},
   "outputs": [],
   "source": [
    "# Create a copy of the data, but with only the columns I'll be working with\n",
    "\n",
    "df = data.drop(['id', 'date', 'view', 'address', 'lat', 'long'], axis=1)"
   ]
  },
  {
   "cell_type": "markdown",
   "metadata": {},
   "source": [
    "*RJ: Additional drops added below:"
   ]
  },
  {
   "cell_type": "code",
   "execution_count": 5,
   "metadata": {},
   "outputs": [],
   "source": [
    "df = df.drop(['waterfront', 'greenbelt', 'nuisance', 'condition', 'heat_source', 'sewer_system', 'yr_built', 'yr_renovated'], axis=1)"
   ]
  },
  {
   "cell_type": "code",
   "execution_count": 6,
   "metadata": {},
   "outputs": [
    {
     "name": "stdout",
     "output_type": "stream",
     "text": [
      "<class 'pandas.core.frame.DataFrame'>\n",
      "RangeIndex: 30155 entries, 0 to 30154\n",
      "Data columns (total 11 columns):\n",
      " #   Column         Non-Null Count  Dtype  \n",
      "---  ------         --------------  -----  \n",
      " 0   price          30155 non-null  float64\n",
      " 1   bedrooms       30155 non-null  int64  \n",
      " 2   bathrooms      30155 non-null  float64\n",
      " 3   sqft_living    30155 non-null  int64  \n",
      " 4   sqft_lot       30155 non-null  int64  \n",
      " 5   floors         30155 non-null  float64\n",
      " 6   grade          30155 non-null  object \n",
      " 7   sqft_above     30155 non-null  int64  \n",
      " 8   sqft_basement  30155 non-null  int64  \n",
      " 9   sqft_garage    30155 non-null  int64  \n",
      " 10  sqft_patio     30155 non-null  int64  \n",
      "dtypes: float64(3), int64(7), object(1)\n",
      "memory usage: 2.5+ MB\n"
     ]
    }
   ],
   "source": [
    "df.info()"
   ]
  },
  {
   "cell_type": "markdown",
   "metadata": {},
   "source": [
    "# Visually Inspecting Variables"
   ]
  },
  {
   "cell_type": "code",
   "execution_count": 7,
   "metadata": {},
   "outputs": [
    {
     "data": {
      "text/plain": [
       "Text(0.5, 0, 'dependent_count')"
      ]
     },
     "execution_count": 7,
     "metadata": {},
     "output_type": "execute_result"
    },
    {
     "data": {
      "image/png": "[encoded data removed]",
      "text/plain": [
       "<Figure size 432x288 with 1 Axes>"
      ]
     },
     "metadata": {
      "needs_background": "light"
     },
     "output_type": "display_data"
    }
   ],
   "source": [
    "ax = df['bedrooms'].plot.hist()\n",
    "ax.set_ylabel(\"frequecy\")\n",
    "ax.set_xlabel(\"dependent_count\")\n",
    "\n",
    "ax = df['bathrooms'].plot.hist()\n",
    "ax.set_ylabel(\"frequecy\")\n",
    "ax.set_xlabel(\"dependent_count\")"
   ]
  },
  {
   "cell_type": "code",
   "execution_count": 8,
   "metadata": {},
   "outputs": [
    {
     "name": "stdout",
     "output_type": "stream",
     "text": [
      "0        44\n",
      "1       391\n",
      "2      3936\n",
      "3     12754\n",
      "4      9597\n",
      "5      2798\n",
      "6       498\n",
      "7        80\n",
      "8        38\n",
      "9        14\n",
      "10        3\n",
      "11        1\n",
      "13        1\n",
      "Name: bedrooms, dtype: int64\n",
      "0.0       31\n",
      "0.5        5\n",
      "1.0     4576\n",
      "1.5     1808\n",
      "2.0     7349\n",
      "2.5     8475\n",
      "3.0     4117\n",
      "3.5     2266\n",
      "4.0      645\n",
      "4.5      533\n",
      "5.0      145\n",
      "5.5      104\n",
      "6.0       45\n",
      "6.5       25\n",
      "7.0       12\n",
      "7.5       12\n",
      "8.0        2\n",
      "8.5        1\n",
      "9.5        2\n",
      "10.0       1\n",
      "10.5       1\n",
      "Name: bathrooms, dtype: int64\n"
     ]
    }
   ],
   "source": [
    "# Histograms indicate that >6 bedrooms, >6 bathrooms are outliers. Confirm with table data.\n",
    "\n",
    "# We can also say any values < 100 were dropped from df[bedrooms] and df[bathrooms]. \n",
    "\n",
    "print(df['bedrooms'].value_counts().sort_index())\n",
    "print(df['bathrooms'].value_counts().sort_index())\n",
    "\n"
   ]
  },
  {
   "cell_type": "code",
   "execution_count": 9,
   "metadata": {},
   "outputs": [
    {
     "name": "stdout",
     "output_type": "stream",
     "text": [
      "<class 'pandas.core.frame.DataFrame'>\n",
      "Int64Index: 29921 entries, 0 to 30154\n",
      "Data columns (total 11 columns):\n",
      " #   Column         Non-Null Count  Dtype  \n",
      "---  ------         --------------  -----  \n",
      " 0   price          29921 non-null  float64\n",
      " 1   bedrooms       29921 non-null  int64  \n",
      " 2   bathrooms      29921 non-null  float64\n",
      " 3   sqft_living    29921 non-null  int64  \n",
      " 4   sqft_lot       29921 non-null  int64  \n",
      " 5   floors         29921 non-null  float64\n",
      " 6   grade          29921 non-null  object \n",
      " 7   sqft_above     29921 non-null  int64  \n",
      " 8   sqft_basement  29921 non-null  int64  \n",
      " 9   sqft_garage    29921 non-null  int64  \n",
      " 10  sqft_patio     29921 non-null  int64  \n",
      "dtypes: float64(3), int64(7), object(1)\n",
      "memory usage: 2.7+ MB\n",
      "\n",
      "\n",
      "Dropped 0.8% of the total number of datapoints\n"
     ]
    }
   ],
   "source": [
    "# Dropping houses with 0 bedrooms/bathrooms\n",
    "\n",
    "# RJ: edited to greater than or equal to 1 so that we can drop the 0.5 bathrooms.\n",
    "\n",
    "#Dropping: Bedrooms >= 1 AND <= 6\n",
    "#df = \n",
    "df = df[df['bedrooms'] >= 1]\n",
    "df = df[df['bedrooms'] <= 6]\n",
    "\n",
    "df = df[df['bathrooms'] >= 1]\n",
    "df = df[df['bathrooms'] <= 6]\n",
    "\n",
    "\n",
    "df['bedrooms'].value_counts()\n",
    "df['bathrooms'].value_counts()\n",
    "\n",
    "#Dropping: Bathrooms >= 1 AND <= 6\n",
    "#df = df[df.bathrooms.isin([1,7])]\n",
    "\n",
    "df.info()\n",
    "\n",
    "n = 30155\n",
    "nd = (30155 - 29921)\n",
    "\n",
    "print(f\"\\n\")\n",
    "print (f\"Dropped {nd/n*100:.1f}% of the total number of datapoints\")"
   ]
  },
  {
   "cell_type": "code",
   "execution_count": 1,
   "metadata": {},
   "outputs": [
    {
     "ename": "NameError",
     "evalue": "name 'df' is not defined",
     "output_type": "error",
     "traceback": [
      "\u001b[0;31m---------------------------------------------------------------------------\u001b[0m",
      "\u001b[0;31mNameError\u001b[0m                                 Traceback (most recent call last)",
      "\u001b[0;32m<ipython-input-1-539100eb9b06>\u001b[0m in \u001b[0;36m<module>\u001b[0;34m\u001b[0m\n\u001b[0;32m----> 1\u001b[0;31m \u001b[0mdf\u001b[0m\u001b[0;34m[\u001b[0m\u001b[0;34m'bedrooms'\u001b[0m\u001b[0;34m]\u001b[0m\u001b[0;34m.\u001b[0m\u001b[0mvalue_counts\u001b[0m\u001b[0;34m(\u001b[0m\u001b[0;34m)\u001b[0m\u001b[0;34m.\u001b[0m\u001b[0msort_index\u001b[0m\u001b[0;34m(\u001b[0m\u001b[0;34m)\u001b[0m\u001b[0;34m\u001b[0m\u001b[0;34m\u001b[0m\u001b[0m\n\u001b[0m",
      "\u001b[0;31mNameError\u001b[0m: name 'df' is not defined"
     ]
    }
   ],
   "source": [
    "df['bedrooms'].value_counts().sort_index()"
   ]
  },
  {
   "cell_type": "code",
   "execution_count": 11,
   "metadata": {},
   "outputs": [
    {
     "data": {
      "text/plain": [
       "1.0    4560\n",
       "1.5    1807\n",
       "2.0    7341\n",
       "2.5    8470\n",
       "3.0    4083\n",
       "3.5    2256\n",
       "4.0     616\n",
       "4.5     518\n",
       "5.0     135\n",
       "5.5     100\n",
       "6.0      35\n",
       "Name: bathrooms, dtype: int64"
      ]
     },
     "execution_count": 11,
     "metadata": {},
     "output_type": "execute_result"
    }
   ],
   "source": [
    "df['bathrooms'].value_counts().sort_index()"
   ]
  },
  {
   "cell_type": "code",
   "execution_count": 12,
   "metadata": {},
   "outputs": [
    {
     "data": {
      "image/png": "[encoded data removed]",
      "text/plain": [
       "<Figure size 864x432 with 2 Axes>"
      ]
     },
     "metadata": {
      "needs_background": "light"
     },
     "output_type": "display_data"
    }
   ],
   "source": [
    "df.hist(['bathrooms', 'bedrooms'], figsize=(12,6), layout=(1,2));"
   ]
  },
  {
   "cell_type": "code",
   "execution_count": 13,
   "metadata": {},
   "outputs": [
    {
     "name": "stdout",
     "output_type": "stream",
     "text": [
      "0    0.513853\n",
      "1    0.486147\n",
      "Name: basement, dtype: float64 1    0.669597\n",
      "0    0.330403\n",
      "Name: garage, dtype: float64 1    0.77611\n",
      "0    0.22389\n",
      "Name: patio, dtype: float64\n"
     ]
    }
   ],
   "source": [
    "# Converting sqft from basement, garage, and patio into binary to see if they have it or they don't have it\n",
    "\n",
    "df['basement'] = df['sqft_basement'].apply(lambda x: 1 if x > 0 else 0)\n",
    "df['garage'] = df['sqft_garage'].apply(lambda x: 1 if x > 0 else 0)\n",
    "df['patio'] = df['sqft_patio'].apply(lambda x: 1 if x > 0 else 0)\n",
    "\n",
    "print(df['basement'].value_counts(normalize=True),\n",
    "      df['garage'].value_counts(normalize=True), \n",
    "      df['patio'].value_counts(normalize=True))"
   ]
  },
  {
   "cell_type": "code",
   "execution_count": null,
   "metadata": {},
   "outputs": [],
   "source": []
  },
  {
   "cell_type": "code",
   "execution_count": 14,
   "metadata": {},
   "outputs": [],
   "source": [
    "# Make dummy tables for potential categorical features\n",
    "\n",
    "dummy_bedrooms = pd.get_dummies(df['bedrooms'], drop_first=True)\n",
    "dummy_bathrooms = pd.get_dummies(df['bathrooms'], drop_first=True)\n",
    "dummy_floors = pd.get_dummies(df['floors'], drop_first=True)\n",
    "dummy_grade = pd.get_dummies(df['grade'], drop_first=True)"
   ]
  },
  {
   "cell_type": "code",
   "execution_count": 15,
   "metadata": {},
   "outputs": [],
   "source": [
    "# getting rid of the outliers on top & bottom .025%\n",
    "#outliers = ['sqft_living','price']\n",
    "#df_old = df.copy()\n",
    "\n",
    "#for col in outliers:\n",
    "#    df = df[(df[col] > np.percentile(df[col], .25)) & (df[col] < np.percentile(df[col], 99.75))]"
   ]
  },
  {
   "cell_type": "code",
   "execution_count": 16,
   "metadata": {},
   "outputs": [],
   "source": [
    "# RJ: This gets rid of all of our data (n=7298 after I run it), so for the presentation I'm not going to remove outliers here, we'll deal with it later.\n",
    "\n",
    "#outliers = ['sqft_above', 'sqft_basement', 'sqft_patio', 'sqft_garage']\n",
    "\n",
    "#for col in outliers:\n",
    " #   df = df[(df[col] > np.percentile(df[col], .25)) & (df[col] < np.percentile(df[col], 99.75))]"
   ]
  },
  {
   "cell_type": "code",
   "execution_count": 17,
   "metadata": {},
   "outputs": [],
   "source": [
    "#df.info()"
   ]
  },
  {
   "cell_type": "code",
   "execution_count": 18,
   "metadata": {},
   "outputs": [
    {
     "name": "stdout",
     "output_type": "stream",
     "text": [
      "Dropped 1.8% of the total data\n"
     ]
    }
   ],
   "source": [
    "nd = 30155-29617\n",
    "\n",
    "print(f\"Dropped {nd/n*100:.1f}% of the total data\")"
   ]
  },
  {
   "cell_type": "markdown",
   "metadata": {},
   "source": [
    "***"
   ]
  },
  {
   "cell_type": "markdown",
   "metadata": {
    "heading_collapsed": true
   },
   "source": [
    "## Histogram of Continuous Variables (Price, Sqft_Living)"
   ]
  },
  {
   "cell_type": "code",
   "execution_count": null,
   "metadata": {
    "hidden": true
   },
   "outputs": [],
   "source": [
    "df.hist(['price', 'sqft_above', 'sqft_basement', 'sqft_garage', 'sqft_patio'], figsize=(12,8));"
   ]
  },
  {
   "cell_type": "code",
   "execution_count": null,
   "metadata": {
    "hidden": true
   },
   "outputs": [],
   "source": [
    "#Very Skewed left. Sqft_above less so."
   ]
  },
  {
   "cell_type": "code",
   "execution_count": null,
   "metadata": {
    "hidden": true
   },
   "outputs": [],
   "source": [
    "df.hist(['sqft_living'], figsize=(6,4));"
   ]
  },
  {
   "cell_type": "markdown",
   "metadata": {
    "heading_collapsed": true
   },
   "source": [
    "# Data Exploration"
   ]
  },
  {
   "cell_type": "code",
   "execution_count": null,
   "metadata": {
    "hidden": true,
    "scrolled": false
   },
   "outputs": [],
   "source": [
    "sns.pairplot(df)"
   ]
  },
  {
   "cell_type": "code",
   "execution_count": null,
   "metadata": {
    "hidden": true
   },
   "outputs": [],
   "source": [
    "plt.figure(figsize=(10,10))\n",
    "sns.heatmap(df.corr(), annot = True)"
   ]
  },
  {
   "cell_type": "markdown",
   "metadata": {},
   "source": [
    "# Model 2"
   ]
  },
  {
   "cell_type": "markdown",
   "metadata": {},
   "source": [
    "**Home Extensions**\n",
    "1. Which rooms expansions are associated with higher sale price?\n",
    "\n",
    "3. Which type of room expansion contributes the most to increased house sale value?\n",
    "    * Multiple Linear Regression Model. Iterative model (R2 + 2 feature coefficients). \n",
    "        * Start with sqft_above. Add in sqft_basement, sqft_garage, sqft_patio, sqft_outdoor_space (sqft_lot - sqft_living)"
   ]
  },
  {
   "cell_type": "markdown",
   "metadata": {},
   "source": [
    "### First: Calculate sqft_outdoor_space"
   ]
  },
  {
   "cell_type": "code",
   "execution_count": 19,
   "metadata": {},
   "outputs": [],
   "source": [
    "df['sqft_outdoor'] = df['sqft_lot'] - df['sqft_living']"
   ]
  },
  {
   "cell_type": "markdown",
   "metadata": {},
   "source": [
    "## Step by Step Linear Regression"
   ]
  },
  {
   "cell_type": "markdown",
   "metadata": {},
   "source": [
    "### Start with sqft_above bc it's the core living area"
   ]
  },
  {
   "cell_type": "code",
   "execution_count": 20,
   "metadata": {
    "scrolled": true
   },
   "outputs": [
    {
     "data": {
      "text/html": [
       "<table class=\"simpletable\">\n",
       "<caption>OLS Regression Results</caption>\n",
       "<tr>\n",
       "  <th>Dep. Variable:</th>          <td>price</td>      <th>  R-squared:         </th>  <td>   0.282</td>  \n",
       "</tr>\n",
       "<tr>\n",
       "  <th>Model:</th>                   <td>OLS</td>       <th>  Adj. R-squared:    </th>  <td>   0.282</td>  \n",
       "</tr>\n",
       "<tr>\n",
       "  <th>Method:</th>             <td>Least Squares</td>  <th>  F-statistic:       </th>  <td>1.172e+04</td> \n",
       "</tr>\n",
       "<tr>\n",
       "  <th>Date:</th>             <td>Fri, 09 Dec 2022</td> <th>  Prob (F-statistic):</th>   <td>  0.00</td>   \n",
       "</tr>\n",
       "<tr>\n",
       "  <th>Time:</th>                 <td>14:16:52</td>     <th>  Log-Likelihood:    </th> <td>-4.4587e+05</td>\n",
       "</tr>\n",
       "<tr>\n",
       "  <th>No. Observations:</th>      <td> 29921</td>      <th>  AIC:               </th>  <td>8.917e+05</td> \n",
       "</tr>\n",
       "<tr>\n",
       "  <th>Df Residuals:</th>          <td> 29919</td>      <th>  BIC:               </th>  <td>8.918e+05</td> \n",
       "</tr>\n",
       "<tr>\n",
       "  <th>Df Model:</th>              <td>     1</td>      <th>                     </th>      <td> </td>     \n",
       "</tr>\n",
       "<tr>\n",
       "  <th>Covariance Type:</th>      <td>nonrobust</td>    <th>                     </th>      <td> </td>     \n",
       "</tr>\n",
       "</table>\n",
       "<table class=\"simpletable\">\n",
       "<tr>\n",
       "       <td></td>         <th>coef</th>     <th>std err</th>      <th>t</th>      <th>P>|t|</th>  <th>[0.025</th>    <th>0.975]</th>  \n",
       "</tr>\n",
       "<tr>\n",
       "  <th>const</th>      <td> 1.548e+05</td> <td> 9644.032</td> <td>   16.052</td> <td> 0.000</td> <td> 1.36e+05</td> <td> 1.74e+05</td>\n",
       "</tr>\n",
       "<tr>\n",
       "  <th>sqft_above</th> <td>  523.7227</td> <td>    4.837</td> <td>  108.278</td> <td> 0.000</td> <td>  514.242</td> <td>  533.203</td>\n",
       "</tr>\n",
       "</table>\n",
       "<table class=\"simpletable\">\n",
       "<tr>\n",
       "  <th>Omnibus:</th>       <td>40081.265</td> <th>  Durbin-Watson:     </th>   <td>   1.868</td>  \n",
       "</tr>\n",
       "<tr>\n",
       "  <th>Prob(Omnibus):</th>  <td> 0.000</td>   <th>  Jarque-Bera (JB):  </th> <td>32893524.379</td>\n",
       "</tr>\n",
       "<tr>\n",
       "  <th>Skew:</th>           <td> 7.146</td>   <th>  Prob(JB):          </th>   <td>    0.00</td>  \n",
       "</tr>\n",
       "<tr>\n",
       "  <th>Kurtosis:</th>       <td>164.803</td>  <th>  Cond. No.          </th>   <td>4.64e+03</td>  \n",
       "</tr>\n",
       "</table><br/><br/>Notes:<br/>[1] Standard Errors assume that the covariance matrix of the errors is correctly specified.<br/>[2] The condition number is large, 4.64e+03. This might indicate that there are<br/>strong multicollinearity or other numerical problems."
      ],
      "text/plain": [
       "<class 'statsmodels.iolib.summary.Summary'>\n",
       "\"\"\"\n",
       "                            OLS Regression Results                            \n",
       "==============================================================================\n",
       "Dep. Variable:                  price   R-squared:                       0.282\n",
       "Model:                            OLS   Adj. R-squared:                  0.282\n",
       "Method:                 Least Squares   F-statistic:                 1.172e+04\n",
       "Date:                Fri, 09 Dec 2022   Prob (F-statistic):               0.00\n",
       "Time:                        14:16:52   Log-Likelihood:            -4.4587e+05\n",
       "No. Observations:               29921   AIC:                         8.917e+05\n",
       "Df Residuals:                   29919   BIC:                         8.918e+05\n",
       "Df Model:                           1                                         \n",
       "Covariance Type:            nonrobust                                         \n",
       "==============================================================================\n",
       "                 coef    std err          t      P>|t|      [0.025      0.975]\n",
       "------------------------------------------------------------------------------\n",
       "const       1.548e+05   9644.032     16.052      0.000    1.36e+05    1.74e+05\n",
       "sqft_above   523.7227      4.837    108.278      0.000     514.242     533.203\n",
       "==============================================================================\n",
       "Omnibus:                    40081.265   Durbin-Watson:                   1.868\n",
       "Prob(Omnibus):                  0.000   Jarque-Bera (JB):         32893524.379\n",
       "Skew:                           7.146   Prob(JB):                         0.00\n",
       "Kurtosis:                     164.803   Cond. No.                     4.64e+03\n",
       "==============================================================================\n",
       "\n",
       "Notes:\n",
       "[1] Standard Errors assume that the covariance matrix of the errors is correctly specified.\n",
       "[2] The condition number is large, 4.64e+03. This might indicate that there are\n",
       "strong multicollinearity or other numerical problems.\n",
       "\"\"\""
      ]
     },
     "execution_count": 20,
     "metadata": {},
     "output_type": "execute_result"
    }
   ],
   "source": [
    "# Log Transforming all variables\n",
    "\n",
    "Y = df['price']\n",
    "x1 = df['sqft_above']\n",
    "\n",
    "model = sm.OLS(Y,sm.add_constant(x1)).fit()\n",
    "\n",
    "model.summary()"
   ]
  },
  {
   "cell_type": "code",
   "execution_count": 22,
   "metadata": {},
   "outputs": [
    {
     "data": {
      "text/html": [
       "<table class=\"simpletable\">\n",
       "<caption>OLS Regression Results</caption>\n",
       "<tr>\n",
       "  <th>Dep. Variable:</th>          <td>price</td>      <th>  R-squared:         </th>  <td>   0.359</td>  \n",
       "</tr>\n",
       "<tr>\n",
       "  <th>Model:</th>                   <td>OLS</td>       <th>  Adj. R-squared:    </th>  <td>   0.359</td>  \n",
       "</tr>\n",
       "<tr>\n",
       "  <th>Method:</th>             <td>Least Squares</td>  <th>  F-statistic:       </th>  <td>   8363.</td>  \n",
       "</tr>\n",
       "<tr>\n",
       "  <th>Date:</th>             <td>Fri, 09 Dec 2022</td> <th>  Prob (F-statistic):</th>   <td>  0.00</td>   \n",
       "</tr>\n",
       "<tr>\n",
       "  <th>Time:</th>                 <td>14:23:21</td>     <th>  Log-Likelihood:    </th> <td>-4.4417e+05</td>\n",
       "</tr>\n",
       "<tr>\n",
       "  <th>No. Observations:</th>      <td> 29921</td>      <th>  AIC:               </th>  <td>8.883e+05</td> \n",
       "</tr>\n",
       "<tr>\n",
       "  <th>Df Residuals:</th>          <td> 29918</td>      <th>  BIC:               </th>  <td>8.884e+05</td> \n",
       "</tr>\n",
       "<tr>\n",
       "  <th>Df Model:</th>              <td>     2</td>      <th>                     </th>      <td> </td>     \n",
       "</tr>\n",
       "<tr>\n",
       "  <th>Covariance Type:</th>      <td>nonrobust</td>    <th>                     </th>      <td> </td>     \n",
       "</tr>\n",
       "</table>\n",
       "<table class=\"simpletable\">\n",
       "<tr>\n",
       "        <td></td>           <th>coef</th>     <th>std err</th>      <th>t</th>      <th>P>|t|</th>  <th>[0.025</th>    <th>0.975]</th>  \n",
       "</tr>\n",
       "<tr>\n",
       "  <th>const</th>         <td>-9.094e+04</td> <td> 9992.157</td> <td>   -9.101</td> <td> 0.000</td> <td>-1.11e+05</td> <td>-7.14e+04</td>\n",
       "</tr>\n",
       "<tr>\n",
       "  <th>sqft_basement</th> <td>  414.2725</td> <td>    6.911</td> <td>   59.945</td> <td> 0.000</td> <td>  400.727</td> <td>  427.818</td>\n",
       "</tr>\n",
       "<tr>\n",
       "  <th>sqft_above</th>    <td>  551.6699</td> <td>    4.594</td> <td>  120.086</td> <td> 0.000</td> <td>  542.665</td> <td>  560.674</td>\n",
       "</tr>\n",
       "</table>\n",
       "<table class=\"simpletable\">\n",
       "<tr>\n",
       "  <th>Omnibus:</th>       <td>41983.331</td> <th>  Durbin-Watson:     </th>   <td>   1.851</td>  \n",
       "</tr>\n",
       "<tr>\n",
       "  <th>Prob(Omnibus):</th>  <td> 0.000</td>   <th>  Jarque-Bera (JB):  </th> <td>47826163.838</td>\n",
       "</tr>\n",
       "<tr>\n",
       "  <th>Skew:</th>           <td> 7.730</td>   <th>  Prob(JB):          </th>   <td>    0.00</td>  \n",
       "</tr>\n",
       "<tr>\n",
       "  <th>Kurtosis:</th>       <td>198.251</td>  <th>  Cond. No.          </th>   <td>5.20e+03</td>  \n",
       "</tr>\n",
       "</table><br/><br/>Notes:<br/>[1] Standard Errors assume that the covariance matrix of the errors is correctly specified.<br/>[2] The condition number is large, 5.2e+03. This might indicate that there are<br/>strong multicollinearity or other numerical problems."
      ],
      "text/plain": [
       "<class 'statsmodels.iolib.summary.Summary'>\n",
       "\"\"\"\n",
       "                            OLS Regression Results                            \n",
       "==============================================================================\n",
       "Dep. Variable:                  price   R-squared:                       0.359\n",
       "Model:                            OLS   Adj. R-squared:                  0.359\n",
       "Method:                 Least Squares   F-statistic:                     8363.\n",
       "Date:                Fri, 09 Dec 2022   Prob (F-statistic):               0.00\n",
       "Time:                        14:23:21   Log-Likelihood:            -4.4417e+05\n",
       "No. Observations:               29921   AIC:                         8.883e+05\n",
       "Df Residuals:                   29918   BIC:                         8.884e+05\n",
       "Df Model:                           2                                         \n",
       "Covariance Type:            nonrobust                                         \n",
       "=================================================================================\n",
       "                    coef    std err          t      P>|t|      [0.025      0.975]\n",
       "---------------------------------------------------------------------------------\n",
       "const         -9.094e+04   9992.157     -9.101      0.000   -1.11e+05   -7.14e+04\n",
       "sqft_basement   414.2725      6.911     59.945      0.000     400.727     427.818\n",
       "sqft_above      551.6699      4.594    120.086      0.000     542.665     560.674\n",
       "==============================================================================\n",
       "Omnibus:                    41983.331   Durbin-Watson:                   1.851\n",
       "Prob(Omnibus):                  0.000   Jarque-Bera (JB):         47826163.838\n",
       "Skew:                           7.730   Prob(JB):                         0.00\n",
       "Kurtosis:                     198.251   Cond. No.                     5.20e+03\n",
       "==============================================================================\n",
       "\n",
       "Notes:\n",
       "[1] Standard Errors assume that the covariance matrix of the errors is correctly specified.\n",
       "[2] The condition number is large, 5.2e+03. This might indicate that there are\n",
       "strong multicollinearity or other numerical problems.\n",
       "\"\"\""
      ]
     },
     "execution_count": 22,
     "metadata": {},
     "output_type": "execute_result"
    }
   ],
   "source": [
    "colnames = ['sqft_above']\n",
    "r2_list = [0.282]\n",
    "coef_list = [523.72]\n",
    "\n",
    "x2 = ['sqft_basement', 'sqft_above'] #2nd variable in our iteration\n",
    "x2 = df[x2]\n",
    "\n",
    "#x_log['sqft_basement'] = np.log(df['sqft_basement'])\n",
    "\n",
    "model2 = sm.OLS(Y, sm.add_constant(x2)).fit()\n",
    "\n",
    "model2.summary()"
   ]
  },
  {
   "cell_type": "code",
   "execution_count": null,
   "metadata": {},
   "outputs": [],
   "source": [
    "# Onwards to save time"
   ]
  },
  {
   "cell_type": "code",
   "execution_count": 97,
   "metadata": {},
   "outputs": [
    {
     "data": {
      "text/html": [
       "<div>\n",
       "<style scoped>\n",
       "    .dataframe tbody tr th:only-of-type {\n",
       "        vertical-align: middle;\n",
       "    }\n",
       "\n",
       "    .dataframe tbody tr th {\n",
       "        vertical-align: top;\n",
       "    }\n",
       "\n",
       "    .dataframe thead th {\n",
       "        text-align: right;\n",
       "    }\n",
       "</style>\n",
       "<table border=\"1\" class=\"dataframe\">\n",
       "  <thead>\n",
       "    <tr style=\"text-align: right;\">\n",
       "      <th></th>\n",
       "      <th>0</th>\n",
       "    </tr>\n",
       "  </thead>\n",
       "  <tbody>\n",
       "    <tr>\n",
       "      <th>const</th>\n",
       "      <td>-91390.497282</td>\n",
       "    </tr>\n",
       "    <tr>\n",
       "      <th>sqft_patio</th>\n",
       "      <td>336.933918</td>\n",
       "    </tr>\n",
       "    <tr>\n",
       "      <th>sqft_basement</th>\n",
       "      <td>380.317301</td>\n",
       "    </tr>\n",
       "    <tr>\n",
       "      <th>sqft_above</th>\n",
       "      <td>520.279435</td>\n",
       "    </tr>\n",
       "  </tbody>\n",
       "</table>\n",
       "</div>"
      ],
      "text/plain": [
       "                          0\n",
       "const         -91390.497282\n",
       "sqft_patio       336.933918\n",
       "sqft_basement    380.317301\n",
       "sqft_above       520.279435"
      ]
     },
     "execution_count": 97,
     "metadata": {},
     "output_type": "execute_result"
    }
   ],
   "source": [
    "x3 = ['sqft_basement', 'sqft_above', 'sqft_patio']\n",
    "#2nd variable in our iteration\n",
    "x3 = df[x3]\n",
    "\n",
    "#x_log['sqft_basement'] = np.log(df['sqft_basement'])\n",
    "\n",
    "model_3 = sm.OLS(Y, sm.add_constant(x3)).fit()\n",
    "\n",
    "model_3.summary()\n",
    "\n",
    "\n",
    "graph_df = pd.DataFrame(model_3.params)\n",
    "graph_df.reset_index()\n",
    "\n",
    "graph_df.sort_values(by=0)\n",
    "#graph_df.drop(, axis=0)"
   ]
  },
  {
   "cell_type": "code",
   "execution_count": 98,
   "metadata": {},
   "outputs": [
    {
     "data": {
      "text/html": [
       "<div>\n",
       "<style scoped>\n",
       "    .dataframe tbody tr th:only-of-type {\n",
       "        vertical-align: middle;\n",
       "    }\n",
       "\n",
       "    .dataframe tbody tr th {\n",
       "        vertical-align: top;\n",
       "    }\n",
       "\n",
       "    .dataframe thead th {\n",
       "        text-align: right;\n",
       "    }\n",
       "</style>\n",
       "<table border=\"1\" class=\"dataframe\">\n",
       "  <thead>\n",
       "    <tr style=\"text-align: right;\">\n",
       "      <th></th>\n",
       "      <th>0</th>\n",
       "    </tr>\n",
       "  </thead>\n",
       "  <tbody>\n",
       "    <tr>\n",
       "      <th>sqft_basement</th>\n",
       "      <td>380.317301</td>\n",
       "    </tr>\n",
       "    <tr>\n",
       "      <th>sqft_above</th>\n",
       "      <td>520.279435</td>\n",
       "    </tr>\n",
       "    <tr>\n",
       "      <th>sqft_patio</th>\n",
       "      <td>336.933918</td>\n",
       "    </tr>\n",
       "  </tbody>\n",
       "</table>\n",
       "</div>"
      ],
      "text/plain": [
       "                        0\n",
       "sqft_basement  380.317301\n",
       "sqft_above     520.279435\n",
       "sqft_patio     336.933918"
      ]
     },
     "execution_count": 98,
     "metadata": {},
     "output_type": "execute_result"
    }
   ],
   "source": [
    "graph_df = graph_df.tail(-1)\n",
    "\n",
    "graph_df"
   ]
  },
  {
   "cell_type": "code",
   "execution_count": 99,
   "metadata": {},
   "outputs": [],
   "source": [
    "graph_df = graph_df.reset_index()"
   ]
  },
  {
   "cell_type": "code",
   "execution_count": 103,
   "metadata": {},
   "outputs": [],
   "source": [
    "\n",
    "\n",
    "graph_df = graph_df.round(2)\n",
    "\n",
    "graph_df = graph_df.sort_values(0, ascending=False)\n",
    "\n",
    "#b = pd.Series(['Living Space', 'Basement', 'Patio'])\n",
    "\n",
    "\n",
    "#graph_df.drop(['level_0', 'index', 'Extension Locations'])\n",
    "\n",
    "#graph_df"
   ]
  },
  {
   "cell_type": "code",
   "execution_count": 104,
   "metadata": {},
   "outputs": [
    {
     "data": {
      "text/html": [
       "<div>\n",
       "<style scoped>\n",
       "    .dataframe tbody tr th:only-of-type {\n",
       "        vertical-align: middle;\n",
       "    }\n",
       "\n",
       "    .dataframe tbody tr th {\n",
       "        vertical-align: top;\n",
       "    }\n",
       "\n",
       "    .dataframe thead th {\n",
       "        text-align: right;\n",
       "    }\n",
       "</style>\n",
       "<table border=\"1\" class=\"dataframe\">\n",
       "  <thead>\n",
       "    <tr style=\"text-align: right;\">\n",
       "      <th></th>\n",
       "      <th>index</th>\n",
       "      <th>0</th>\n",
       "    </tr>\n",
       "  </thead>\n",
       "  <tbody>\n",
       "    <tr>\n",
       "      <th>1</th>\n",
       "      <td>sqft_above</td>\n",
       "      <td>520.28</td>\n",
       "    </tr>\n",
       "    <tr>\n",
       "      <th>0</th>\n",
       "      <td>sqft_basement</td>\n",
       "      <td>380.32</td>\n",
       "    </tr>\n",
       "    <tr>\n",
       "      <th>2</th>\n",
       "      <td>sqft_patio</td>\n",
       "      <td>336.93</td>\n",
       "    </tr>\n",
       "  </tbody>\n",
       "</table>\n",
       "</div>"
      ],
      "text/plain": [
       "           index       0\n",
       "1     sqft_above  520.28\n",
       "0  sqft_basement  380.32\n",
       "2     sqft_patio  336.93"
      ]
     },
     "execution_count": 104,
     "metadata": {},
     "output_type": "execute_result"
    }
   ],
   "source": [
    "graph_df"
   ]
  },
  {
   "cell_type": "code",
   "execution_count": 105,
   "metadata": {},
   "outputs": [],
   "source": [
    "graph_df.insert(1, \"House Areas\", ['Above-Ground Rooms', 'Basement', 'Patio'], True)\n"
   ]
  },
  {
   "cell_type": "code",
   "execution_count": 111,
   "metadata": {},
   "outputs": [],
   "source": [
    "graph_df = graph_df.rename({0:'Price Per Sq. Ft'}, axis=1)"
   ]
  },
  {
   "cell_type": "code",
   "execution_count": 112,
   "metadata": {},
   "outputs": [],
   "source": [
    "sns.set_theme(style='whitegrid')\n",
    "sns.set(rc={\"figure.dpi\":300, 'savefig.dpi':300})"
   ]
  },
  {
   "cell_type": "code",
   "execution_count": 119,
   "metadata": {},
   "outputs": [
    {
     "data": {
      "image/png": "[encoded data removed]",
      "text/plain": [
       "<Figure size 2100x2100 with 1 Axes>"
      ]
     },
     "metadata": {},
     "output_type": "display_data"
    }
   ],
   "source": [
    "#if data_value >= 1000000:\n",
    " #   formatter = '{:1.1f}M'.format(data_value * 0.000001)\n",
    "#else:\n",
    " #   formatter = '{:1.1f}K'.format(data_value * 0.001)\n",
    "#return formatter\n",
    "\n",
    "fig, ax = plt.subplots(figsize=(7,7))\n",
    "fig = sns.barplot(data = graph_df, x = 'House Areas', y = 'Price Per Sq. Ft')\n",
    "#plt.xlabel(x_cat)\n",
    "#plt.ylabel(y_axis_title)\n",
    "#plt.title(graph_title) # You can comment this line out if you don't need title\n",
    "plt.show(fig)"
   ]
  },
  {
   "cell_type": "markdown",
   "metadata": {},
   "source": [
    "# Etc"
   ]
  },
  {
   "cell_type": "code",
   "execution_count": null,
   "metadata": {
    "scrolled": true
   },
   "outputs": [],
   "source": [
    "df.head(3)"
   ]
  },
  {
   "cell_type": "code",
   "execution_count": null,
   "metadata": {
    "scrolled": true
   },
   "outputs": [],
   "source": [
    "df.info()"
   ]
  },
  {
   "cell_type": "markdown",
   "metadata": {},
   "source": [
    "## Major Data Frame"
   ]
  },
  {
   "cell_type": "code",
   "execution_count": null,
   "metadata": {},
   "outputs": [],
   "source": [
    "dummy_bathrooms\n",
    "dummy_bedrooms\n",
    "dummy_condition\n",
    "dummy_floors\n",
    "dummy_grade\n",
    "dummy_heat_source"
   ]
  },
  {
   "cell_type": "code",
   "execution_count": null,
   "metadata": {},
   "outputs": [],
   "source": [
    " df1 = df.drop(['condition', 'grade', 'heat_source'], axis=1)"
   ]
  },
  {
   "cell_type": "code",
   "execution_count": null,
   "metadata": {},
   "outputs": [],
   "source": [
    "df1.head()"
   ]
  },
  {
   "cell_type": "code",
   "execution_count": null,
   "metadata": {},
   "outputs": [],
   "source": [
    "# Make dummy tables for potential categorical features\n",
    "\n",
    "dummy_bedrooms = pd.get_dummies(df1['bedrooms'], drop_first=True)\n",
    "dummy_bathrooms = pd.get_dummies(df1['bathrooms'], drop_first=True)\n",
    "dummy_floors = pd.get_dummies(df1['floors'], drop_first=True)\n",
    "#dummy_condition = pd.get_dummies(df['condition'], drop_first=True)\n",
    "#dummy_grade = pd.get_dummies(df['grade'], drop_first=True)\n",
    "#dummy_heat_source = df['heat_source'].str.get_dummies(sep='/')"
   ]
  },
  {
   "cell_type": "code",
   "execution_count": null,
   "metadata": {},
   "outputs": [],
   "source": [
    "major_df = pd.concat([df1, dummy_bedrooms], axis=1)"
   ]
  },
  {
   "cell_type": "code",
   "execution_count": null,
   "metadata": {},
   "outputs": [],
   "source": [
    "major_df.head()"
   ]
  },
  {
   "cell_type": "code",
   "execution_count": null,
   "metadata": {},
   "outputs": [],
   "source": [
    "y = major_df.price\n",
    "X = sm.add_constant(major_df.drop(['price', 'bedrooms'], axis=1))"
   ]
  },
  {
   "cell_type": "code",
   "execution_count": null,
   "metadata": {},
   "outputs": [],
   "source": [
    "lm1 = sm.OLS(y, X).fit()"
   ]
  },
  {
   "cell_type": "code",
   "execution_count": null,
   "metadata": {},
   "outputs": [],
   "source": [
    "print(lm1.summary())"
   ]
  },
  {
   "cell_type": "code",
   "execution_count": null,
   "metadata": {},
   "outputs": [],
   "source": [
    "y = df.price\n",
    "X = sm.add_constant(df[['bedrooms', 'bathrooms','nuisance','greenbelt']])"
   ]
  },
  {
   "cell_type": "code",
   "execution_count": null,
   "metadata": {},
   "outputs": [],
   "source": [
    "lm2 = sm.OLS(y,X).fit()"
   ]
  },
  {
   "cell_type": "code",
   "execution_count": null,
   "metadata": {
    "scrolled": false
   },
   "outputs": [],
   "source": [
    "print(lm2.summary())"
   ]
  },
  {
   "cell_type": "code",
   "execution_count": null,
   "metadata": {},
   "outputs": [],
   "source": [
    "Price = -1058 + bedrooms(57550) + bathrooms(382000) "
   ]
  },
  {
   "cell_type": "code",
   "execution_count": null,
   "metadata": {},
   "outputs": [],
   "source": [
    "sns.barplot(x ='bedrooms', y ='price', data = df)\n",
    "pd.set_option('display.float_format', lambda x: '%.2f' % x)"
   ]
  },
  {
   "cell_type": "code",
   "execution_count": null,
   "metadata": {},
   "outputs": [],
   "source": [
    "sns.barplot(x ='bathrooms', y ='price', data = df)"
   ]
  },
  {
   "cell_type": "code",
   "execution_count": null,
   "metadata": {},
   "outputs": [],
   "source": [
    "plt.scatter(df['sqft_living'], df['price'])"
   ]
  },
  {
   "cell_type": "code",
   "execution_count": null,
   "metadata": {
    "scrolled": true
   },
   "outputs": [],
   "source": [
    "sns.barplot(x ='nuisance', y ='price', data = df)"
   ]
  },
  {
   "cell_type": "code",
   "execution_count": null,
   "metadata": {},
   "outputs": [],
   "source": [
    "sns.barplot(x ='greenbelt', y ='price', data = df)"
   ]
  },
  {
   "cell_type": "code",
   "execution_count": null,
   "metadata": {
    "scrolled": false
   },
   "outputs": [],
   "source": [
    "sns.barplot(x ='waterfront', y ='price', data = df)"
   ]
  },
  {
   "cell_type": "code",
   "execution_count": null,
   "metadata": {},
   "outputs": [],
   "source": [
    "df.waterfront.value_counts()\n",
    "lol = df[(df.waterfront == 0)]\n",
    "lmao = df[(df.waterfront == 1)]"
   ]
  },
  {
   "cell_type": "code",
   "execution_count": null,
   "metadata": {},
   "outputs": [],
   "source": [
    "lol.price.mean()"
   ]
  },
  {
   "cell_type": "code",
   "execution_count": null,
   "metadata": {},
   "outputs": [],
   "source": [
    "lmao.price.mean()"
   ]
  },
  {
   "cell_type": "code",
   "execution_count": null,
   "metadata": {},
   "outputs": [],
   "source": [
    "sns.barplot(x ='floors', y ='price', data = df)"
   ]
  },
  {
   "cell_type": "code",
   "execution_count": null,
   "metadata": {},
   "outputs": [],
   "source": [
    "plt.scatter(df['yr_built'], df['price'])"
   ]
  },
  {
   "cell_type": "code",
   "execution_count": null,
   "metadata": {},
   "outputs": [],
   "source": [
    "plt.scatter(data['yr_renovated'], data['price'])"
   ]
  },
  {
   "cell_type": "code",
   "execution_count": null,
   "metadata": {},
   "outputs": [],
   "source": [
    "df_copy = df.copy()"
   ]
  },
  {
   "cell_type": "code",
   "execution_count": null,
   "metadata": {},
   "outputs": [],
   "source": [
    "df_copy['size_to_num_bedroom_ratio'] = df_copy['sqft_living'] / df_copy['bedrooms']"
   ]
  },
  {
   "cell_type": "code",
   "execution_count": null,
   "metadata": {},
   "outputs": [],
   "source": [
    "y = df_copy.price\n",
    "X = sm.add_constant(df_copy['size_to_num_bedroom_ratio'])"
   ]
  },
  {
   "cell_type": "code",
   "execution_count": null,
   "metadata": {},
   "outputs": [],
   "source": [
    "lm3 = sm.OLS(y,X).fit()"
   ]
  },
  {
   "cell_type": "code",
   "execution_count": null,
   "metadata": {},
   "outputs": [],
   "source": [
    "print(lm3.summary())"
   ]
  },
  {
   "cell_type": "code",
   "execution_count": null,
   "metadata": {},
   "outputs": [],
   "source": [
    "df['waterfront'].value_counts()"
   ]
  },
  {
   "cell_type": "code",
   "execution_count": null,
   "metadata": {},
   "outputs": [],
   "source": []
  }
 ],
 "metadata": {
  "kernelspec": {
   "display_name": "Python (learn-env)",
   "language": "python",
   "name": "learn-env"
  },
  "language_info": {
   "codemirror_mode": {
    "name": "ipython",
    "version": 3
   },
   "file_extension": ".py",
   "mimetype": "text/x-python",
   "name": "python",
   "nbconvert_exporter": "python",
   "pygments_lexer": "ipython3",
   "version": "3.8.5"
  },
  "toc": {
   "base_numbering": 1,
   "nav_menu": {},
   "number_sections": true,
   "sideBar": true,
   "skip_h1_title": false,
   "title_cell": "Table of Contents",
   "title_sidebar": "Contents",
   "toc_cell": false,
   "toc_position": {},
   "toc_section_display": true,
   "toc_window_display": false
  }
 },
 "nbformat": 4,
 "nbformat_minor": 4
}
