{
 "cells": [
  {
   "cell_type": "markdown",
   "metadata": {},
   "source": [
    "Roshni Scratch Notebook"
   ]
  },
  {
   "cell_type": "code",
   "execution_count": 2,
   "metadata": {},
   "outputs": [],
   "source": [
    "# Import Packages and Data\n",
    "\n",
    "import pandas as pd\n",
    "import numpy as np\n",
    "import matplotlib.pyplot as plt\n",
    "import sklearn as sk\n",
    "import statsmodels.api as sm\n",
    "import seaborn as sns\n",
    "from scipy import stats\n",
    "\n",
    "%matplotlib inline\n",
    "\n",
    "data = pd.read_csv('data/kc_house_data.csv')"
   ]
  },
  {
   "cell_type": "markdown",
   "metadata": {},
   "source": [
    "# Preliminary Exploration of Data"
   ]
  },
  {
   "cell_type": "code",
   "execution_count": 3,
   "metadata": {},
   "outputs": [
    {
     "name": "stdout",
     "output_type": "stream",
     "text": [
      "<class 'pandas.core.frame.DataFrame'>\n",
      "RangeIndex: 30155 entries, 0 to 30154\n",
      "Data columns (total 25 columns):\n",
      " #   Column         Non-Null Count  Dtype  \n",
      "---  ------         --------------  -----  \n",
      " 0   id             30155 non-null  int64  \n",
      " 1   date           30155 non-null  object \n",
      " 2   price          30155 non-null  float64\n",
      " 3   bedrooms       30155 non-null  int64  \n",
      " 4   bathrooms      30155 non-null  float64\n",
      " 5   sqft_living    30155 non-null  int64  \n",
      " 6   sqft_lot       30155 non-null  int64  \n",
      " 7   floors         30155 non-null  float64\n",
      " 8   waterfront     30155 non-null  object \n",
      " 9   greenbelt      30155 non-null  object \n",
      " 10  nuisance       30155 non-null  object \n",
      " 11  view           30155 non-null  object \n",
      " 12  condition      30155 non-null  object \n",
      " 13  grade          30155 non-null  object \n",
      " 14  heat_source    30123 non-null  object \n",
      " 15  sewer_system   30141 non-null  object \n",
      " 16  sqft_above     30155 non-null  int64  \n",
      " 17  sqft_basement  30155 non-null  int64  \n",
      " 18  sqft_garage    30155 non-null  int64  \n",
      " 19  sqft_patio     30155 non-null  int64  \n",
      " 20  yr_built       30155 non-null  int64  \n",
      " 21  yr_renovated   30155 non-null  int64  \n",
      " 22  address        30155 non-null  object \n",
      " 23  lat            30155 non-null  float64\n",
      " 24  long           30155 non-null  float64\n",
      "dtypes: float64(5), int64(10), object(10)\n",
      "memory usage: 5.8+ MB\n"
     ]
    }
   ],
   "source": [
    "data.info()"
   ]
  },
  {
   "cell_type": "markdown",
   "metadata": {},
   "source": [
    "* Definitely unnecessary columns = id, date (sold)\n",
    "* Maybe unnecessary = address, lat, long\n",
    "* Not that interesting maybe: heat_source, sewer_system, Grade\n",
    "* Sub-variables: sqft_above, sqft_basement\n",
    "\n",
    "\n",
    "## Variable Breakdown: \n",
    "\n",
    "### Outcome:\n",
    "* price (continuous)\n",
    "***\n",
    "\n",
    "### Continuous Predictors: \n",
    "1. Sqft_living\n",
    "2. Sqft_lot\n",
    "3. Sqft_garage\n",
    "4. Year Built (1900 - 2021; range = 68)\n",
    "\n",
    "\n",
    "### Categorical Predictors:\n",
    "#### Categorical Ordinal Predictors: \n",
    "1. Bedrooms (13 categories; can combine 6 - 12 as 6+ for 7 categories)\n",
    "2. Bathrooms (21 categories: combine 4+ into one variable for 7 categories)\n",
    "3. Floors (7 categories; can combine 3+ for 5 categories)\n",
    "4. View (BINARY combo possible. 5 categories)\n",
    "5. Condition (5 categories)\n",
    "\n",
    "#### Categorical Binary Predictors:\n",
    "1. Waterfront (discrete: yes/no)\n",
    "2. Greenbelt (discrete: yes/no)\n",
    "3. Nuisance (discrete: yes/no)\n",
    "4. Year Renovated (NEED TO CONVERT, discrete: yes/no)"
   ]
  },
  {
   "cell_type": "code",
   "execution_count": 45,
   "metadata": {},
   "outputs": [],
   "source": [
    "df = data.drop(labels = ['id', 'date', 'address', 'lat', 'long', 'heat_source', 'sewer_system', 'sqft_above', 'sqft_basement', ], axis=1)"
   ]
  },
  {
   "cell_type": "code",
   "execution_count": 48,
   "metadata": {},
   "outputs": [
    {
     "data": {
      "text/plain": [
       "3     12754\n",
       "4      9597\n",
       "2      3936\n",
       "5      2798\n",
       "6       498\n",
       "1       391\n",
       "7        80\n",
       "0        44\n",
       "8        38\n",
       "9        14\n",
       "10        3\n",
       "13        1\n",
       "11        1\n",
       "Name: bedrooms, dtype: int64"
      ]
     },
     "execution_count": 48,
     "metadata": {},
     "output_type": "execute_result"
    }
   ],
   "source": [
    "df.bedrooms.value_counts()"
   ]
  },
  {
   "cell_type": "markdown",
   "metadata": {},
   "source": [
    "***"
   ]
  },
  {
   "cell_type": "markdown",
   "metadata": {},
   "source": [
    "# Data Cleaning Steps:\n",
    "\n",
    "## 1. Create new variables:\n",
    " * a. sqft_unused (living - lot), drop sqft_lot\n",
    " * b. basement (binary - y/n)\n",
    " * c. year renovated (binary - y/n)\n",
    " * d. bathroom : bedroom ratio\n",
    "\n",
    "## 2. Condense variables:\n",
    " * a. bedrooms - "
   ]
  }
 ],
 "metadata": {
  "kernelspec": {
   "display_name": "Python (learn-env)",
   "language": "python",
   "name": "learn-env"
  },
  "language_info": {
   "codemirror_mode": {
    "name": "ipython",
    "version": 3
   },
   "file_extension": ".py",
   "mimetype": "text/x-python",
   "name": "python",
   "nbconvert_exporter": "python",
   "pygments_lexer": "ipython3",
   "version": "3.8.5"
  },
  "toc": {
   "base_numbering": 1,
   "nav_menu": {},
   "number_sections": true,
   "sideBar": true,
   "skip_h1_title": false,
   "title_cell": "Table of Contents",
   "title_sidebar": "Contents",
   "toc_cell": false,
   "toc_position": {},
   "toc_section_display": true,
   "toc_window_display": false
  }
 },
 "nbformat": 4,
 "nbformat_minor": 4
}
